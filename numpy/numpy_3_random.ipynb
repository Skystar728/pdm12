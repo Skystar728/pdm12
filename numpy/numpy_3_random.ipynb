{
  "nbformat": 4,
  "nbformat_minor": 0,
  "metadata": {
    "colab": {
      "name": "numpy_3_random.ipynb",
      "provenance": [],
      "collapsed_sections": [],
      "include_colab_link": true
    },
    "kernelspec": {
      "name": "python3",
      "display_name": "Python 3"
    }
  },
  "cells": [
    {
      "cell_type": "markdown",
      "metadata": {
        "id": "view-in-github",
        "colab_type": "text"
      },
      "source": [
        "<a href=\"https://colab.research.google.com/github/Skystar728/pdm12/blob/main/numpy/numpy_3_random.ipynb\" target=\"_parent\"><img src=\"https://colab.research.google.com/assets/colab-badge.svg\" alt=\"Open In Colab\"/></a>"
      ]
    },
    {
      "cell_type": "markdown",
      "metadata": {
        "id": "_zrirXHfgmyY"
      },
      "source": [
        "# numpy\n",
        "## random 서브모듈\n",
        "> [데이터싸이언스 스쿨:난수발생](https://datascienceschool.net/01%20python/03.05%20%EB%82%9C%EC%88%98%20%EB%B0%9C%EC%83%9D%EA%B3%BC%20%EC%B9%B4%EC%9A%B4%ED%8C%85.html)"
      ]
    },
    {
      "cell_type": "code",
      "metadata": {
        "id": "kQbzzSMZG2PX"
      },
      "source": [
        "import numpy as np"
      ],
      "execution_count": 1,
      "outputs": []
    },
    {
      "cell_type": "markdown",
      "metadata": {
        "id": "1Ry0YHkNFis5"
      },
      "source": [
        "## 난수 생성\n",
        "> NumPy의 random 서브모듈은 난수를 생성하는 다양한 명령을 제공.\n",
        "\n",
        "- rand: 0부터 1사이의 균일 분포 (uniform distribution)\n",
        "- randn: 가우시안 표준 정규 분포 (normal distribution, Gaussian)\n",
        "- randint: 균일 분포의 정수 난수 (uniform int)\n",
        "\n",
        "> randn()은 평균 0, 표준편차 1 인 가우시안 정규분포를 생성."
      ]
    },
    {
      "cell_type": "markdown",
      "metadata": {
        "id": "CtO1VxvurziR"
      },
      "source": [
        "### rand: 0부터 1사이의 균일 분포 (uniform distribution)"
      ]
    },
    {
      "cell_type": "code",
      "metadata": {
        "id": "LA1oF6aEG7kJ",
        "colab": {
          "base_uri": "https://localhost:8080/"
        },
        "outputId": "82b98d59-172b-49c3-dedd-95415d195dba"
      },
      "source": [
        "np.random.rand(5) # 0부터 1 사이 5개 랜덤"
      ],
      "execution_count": 2,
      "outputs": [
        {
          "output_type": "execute_result",
          "data": {
            "text/plain": [
              "array([0.75711171, 0.57737071, 0.87742704, 0.44686577, 0.54479593])"
            ]
          },
          "metadata": {},
          "execution_count": 2
        }
      ]
    },
    {
      "cell_type": "code",
      "metadata": {
        "id": "H6f4ix3NHCyR",
        "colab": {
          "base_uri": "https://localhost:8080/"
        },
        "outputId": "92d36c4a-51cb-4ab3-bd9d-14825a942fae"
      },
      "source": [
        "np.random.rand(5) # 계속 다른 수가 나온다"
      ],
      "execution_count": 3,
      "outputs": [
        {
          "output_type": "execute_result",
          "data": {
            "text/plain": [
              "array([0.35412884, 0.89817445, 0.55012076, 0.3879618 , 0.4989168 ])"
            ]
          },
          "metadata": {},
          "execution_count": 3
        }
      ]
    },
    {
      "cell_type": "markdown",
      "metadata": {
        "id": "c88F6gf8r4K2"
      },
      "source": [
        "### randn: 가우시안 표준 정규 분포 (normal distribution, Gaussian)"
      ]
    },
    {
      "cell_type": "code",
      "metadata": {
        "id": "rtVfCL-uP2Tw",
        "colab": {
          "base_uri": "https://localhost:8080/"
        },
        "outputId": "1228919b-2bd2-4927-9436-e915c7d36728"
      },
      "source": [
        "np.random.randn(5)"
      ],
      "execution_count": 4,
      "outputs": [
        {
          "output_type": "execute_result",
          "data": {
            "text/plain": [
              "array([ 0.75252431, -0.38741141,  1.46378941,  2.2900559 , -0.69062803])"
            ]
          },
          "metadata": {},
          "execution_count": 4
        }
      ]
    },
    {
      "cell_type": "code",
      "metadata": {
        "colab": {
          "base_uri": "https://localhost:8080/"
        },
        "id": "QgT3lqAh_Gx2",
        "outputId": "8feabd58-8ed9-4aec-b581-6c800d3b7b0f"
      },
      "source": [
        "np.random.randn(5)"
      ],
      "execution_count": 23,
      "outputs": [
        {
          "output_type": "execute_result",
          "data": {
            "text/plain": [
              "array([ 1.86755799, -0.97727788,  0.95008842, -0.15135721, -0.10321885])"
            ]
          },
          "metadata": {},
          "execution_count": 23
        }
      ]
    },
    {
      "cell_type": "markdown",
      "metadata": {
        "id": "wsvTzTFSsBSJ"
      },
      "source": [
        "### randint: 균일 분포의 정수 난수 (uniform int)\n",
        "- numpy.random.randint(low, high=None, size=None, dtype='l')"
      ]
    },
    {
      "cell_type": "code",
      "metadata": {
        "id": "WSvAH8uVs2Vb",
        "colab": {
          "base_uri": "https://localhost:8080/"
        },
        "outputId": "a80ddeef-9f8e-40c5-e505-0b65cf408834"
      },
      "source": [
        "np.random.randint(5)  # 0부터 4사이 난수"
      ],
      "execution_count": 5,
      "outputs": [
        {
          "output_type": "execute_result",
          "data": {
            "text/plain": [
              "2"
            ]
          },
          "metadata": {},
          "execution_count": 5
        }
      ]
    },
    {
      "cell_type": "code",
      "metadata": {
        "colab": {
          "base_uri": "https://localhost:8080/"
        },
        "id": "Er6dDbRm_KFF",
        "outputId": "ef84ac4a-41b4-4fc8-e1e2-04cea35a5019"
      },
      "source": [
        "# die number\n",
        "np.random.randint(1,7)"
      ],
      "execution_count": 24,
      "outputs": [
        {
          "output_type": "execute_result",
          "data": {
            "text/plain": [
              "1"
            ]
          },
          "metadata": {},
          "execution_count": 24
        }
      ]
    },
    {
      "cell_type": "code",
      "metadata": {
        "id": "McWHW15uQDPr",
        "colab": {
          "base_uri": "https://localhost:8080/"
        },
        "outputId": "6dcb8235-e65e-4d6e-ab95-a1342dfddf64"
      },
      "source": [
        "np.random.randint(5,9)  # 5부터 8사이 난수"
      ],
      "execution_count": 6,
      "outputs": [
        {
          "output_type": "execute_result",
          "data": {
            "text/plain": [
              "7"
            ]
          },
          "metadata": {},
          "execution_count": 6
        }
      ]
    },
    {
      "cell_type": "code",
      "metadata": {
        "id": "oBsWu9FmQQSC",
        "colab": {
          "base_uri": "https://localhost:8080/"
        },
        "outputId": "a7586aba-6b26-4c51-852b-01cfbd1e24c7"
      },
      "source": [
        "np.random.randint(0,10,5) # 0부터 10사이 난수 5개"
      ],
      "execution_count": 7,
      "outputs": [
        {
          "output_type": "execute_result",
          "data": {
            "text/plain": [
              "array([4, 9, 9, 2, 2])"
            ]
          },
          "metadata": {},
          "execution_count": 7
        }
      ]
    },
    {
      "cell_type": "code",
      "metadata": {
        "id": "0kNuJxjaQYEu",
        "colab": {
          "base_uri": "https://localhost:8080/"
        },
        "outputId": "56e10722-aa9d-4bb5-fd21-e9ab1de1ddc5"
      },
      "source": [
        "np.random.randint(0,10,5)"
      ],
      "execution_count": 8,
      "outputs": [
        {
          "output_type": "execute_result",
          "data": {
            "text/plain": [
              "array([2, 0, 2, 6, 7])"
            ]
          },
          "metadata": {},
          "execution_count": 8
        }
      ]
    },
    {
      "cell_type": "markdown",
      "metadata": {
        "id": "K58DiNYUmANL"
      },
      "source": [
        "---"
      ]
    },
    {
      "cell_type": "markdown",
      "metadata": {
        "id": "xU5NWjQ3F_ld"
      },
      "source": [
        "## 난수 생성 seed 설정\n",
        "- numpy.random.seed(seed=None)\n",
        "- np.random.seed(number)"
      ]
    },
    {
      "cell_type": "code",
      "metadata": {
        "id": "AxUeYmQSQawG"
      },
      "source": [
        "np.random.seed()"
      ],
      "execution_count": 10,
      "outputs": []
    },
    {
      "cell_type": "code",
      "metadata": {
        "id": "C33YjKqvRJ33",
        "colab": {
          "base_uri": "https://localhost:8080/"
        },
        "outputId": "300eda7f-5a58-4111-b315-43550c5f874a"
      },
      "source": [
        "np.random.rand(5)"
      ],
      "execution_count": 11,
      "outputs": [
        {
          "output_type": "execute_result",
          "data": {
            "text/plain": [
              "array([0.93957527, 0.99355885, 0.52468786, 0.96133624, 0.565133  ])"
            ]
          },
          "metadata": {},
          "execution_count": 11
        }
      ]
    },
    {
      "cell_type": "code",
      "metadata": {
        "id": "Ne8rIyN9RO81",
        "colab": {
          "base_uri": "https://localhost:8080/"
        },
        "outputId": "c9e3764f-844a-400c-8aac-d2b270f76dfc"
      },
      "source": [
        "np.random.rand(5)"
      ],
      "execution_count": 12,
      "outputs": [
        {
          "output_type": "execute_result",
          "data": {
            "text/plain": [
              "array([0.39439758, 0.19421056, 0.938787  , 0.63643734, 0.52342029])"
            ]
          },
          "metadata": {},
          "execution_count": 12
        }
      ]
    },
    {
      "cell_type": "markdown",
      "metadata": {
        "id": "wnQ4gFoltu81"
      },
      "source": [
        "### 동일한 무작위수 생성\n",
        "- seed를 고정하고 무작위수 생성"
      ]
    },
    {
      "cell_type": "code",
      "metadata": {
        "id": "LGPOJGfgRSWx"
      },
      "source": [
        "np.random.seed(1234)"
      ],
      "execution_count": 13,
      "outputs": []
    },
    {
      "cell_type": "code",
      "metadata": {
        "id": "t2PNRUpfRXZk",
        "colab": {
          "base_uri": "https://localhost:8080/"
        },
        "outputId": "c5e4ee3f-31a0-43cf-ad32-5529f87fca6e"
      },
      "source": [
        "np.random.rand(5)"
      ],
      "execution_count": 14,
      "outputs": [
        {
          "output_type": "execute_result",
          "data": {
            "text/plain": [
              "array([0.19151945, 0.62210877, 0.43772774, 0.78535858, 0.77997581])"
            ]
          },
          "metadata": {},
          "execution_count": 14
        }
      ]
    },
    {
      "cell_type": "code",
      "metadata": {
        "id": "x8yKednV8CZy",
        "colab": {
          "base_uri": "https://localhost:8080/"
        },
        "outputId": "1193a481-e04f-46b1-9c73-9ef520b9ff06"
      },
      "source": [
        "np.random.rand(5)"
      ],
      "execution_count": 15,
      "outputs": [
        {
          "output_type": "execute_result",
          "data": {
            "text/plain": [
              "array([0.27259261, 0.27646426, 0.80187218, 0.95813935, 0.87593263])"
            ]
          },
          "metadata": {},
          "execution_count": 15
        }
      ]
    },
    {
      "cell_type": "code",
      "metadata": {
        "id": "bo2A_ntYRcKw"
      },
      "source": [
        "np.random.seed(1234)"
      ],
      "execution_count": 16,
      "outputs": []
    },
    {
      "cell_type": "code",
      "metadata": {
        "id": "U5qXdwYQRYeT",
        "colab": {
          "base_uri": "https://localhost:8080/"
        },
        "outputId": "fd76a9a2-63c4-4fdf-8824-f5673af5a743"
      },
      "source": [
        "np.random.rand(5)"
      ],
      "execution_count": 17,
      "outputs": [
        {
          "output_type": "execute_result",
          "data": {
            "text/plain": [
              "array([0.19151945, 0.62210877, 0.43772774, 0.78535858, 0.77997581])"
            ]
          },
          "metadata": {},
          "execution_count": 17
        }
      ]
    },
    {
      "cell_type": "markdown",
      "metadata": {
        "id": "pwMXGAwmRhpW"
      },
      "source": [
        "### seed 고정 후에 randint(5)"
      ]
    },
    {
      "cell_type": "code",
      "metadata": {
        "id": "tqmTOMMVRhGW",
        "colab": {
          "base_uri": "https://localhost:8080/"
        },
        "outputId": "98062b2c-b65d-4892-d80f-148c39b008bb"
      },
      "source": [
        "np.random.seed(5678)\n",
        "np.random.randint(1,10,5)"
      ],
      "execution_count": 18,
      "outputs": [
        {
          "output_type": "execute_result",
          "data": {
            "text/plain": [
              "array([5, 8, 3, 5, 4])"
            ]
          },
          "metadata": {},
          "execution_count": 18
        }
      ]
    },
    {
      "cell_type": "code",
      "metadata": {
        "id": "YxQYjcOLSA-Z",
        "colab": {
          "base_uri": "https://localhost:8080/"
        },
        "outputId": "aeb58255-a04c-4812-8f42-a30f70a42f41"
      },
      "source": [
        "np.random.randint(1,10,5)"
      ],
      "execution_count": 19,
      "outputs": [
        {
          "output_type": "execute_result",
          "data": {
            "text/plain": [
              "array([6, 3, 7, 4, 1])"
            ]
          },
          "metadata": {},
          "execution_count": 19
        }
      ]
    },
    {
      "cell_type": "code",
      "metadata": {
        "id": "aQYF5QpGSD6p",
        "colab": {
          "base_uri": "https://localhost:8080/"
        },
        "outputId": "2624b109-7a6b-49e4-db62-4a68dd9d0f20"
      },
      "source": [
        "np.random.seed(5678)\n",
        "np.random.randint(1,10,5)"
      ],
      "execution_count": 20,
      "outputs": [
        {
          "output_type": "execute_result",
          "data": {
            "text/plain": [
              "array([5, 8, 3, 5, 4])"
            ]
          },
          "metadata": {},
          "execution_count": 20
        }
      ]
    },
    {
      "cell_type": "code",
      "metadata": {
        "id": "cfIhMEcVSGKa",
        "colab": {
          "base_uri": "https://localhost:8080/"
        },
        "outputId": "a2a9bafd-7cb4-48fa-a3b9-e88aeae5f254"
      },
      "source": [
        "np.random.seed(5678)\n",
        "np.random.randint(1,10,5)"
      ],
      "execution_count": 21,
      "outputs": [
        {
          "output_type": "execute_result",
          "data": {
            "text/plain": [
              "array([5, 8, 3, 5, 4])"
            ]
          },
          "metadata": {},
          "execution_count": 21
        }
      ]
    },
    {
      "cell_type": "code",
      "metadata": {
        "id": "Ik9a-QkcfLwy",
        "colab": {
          "base_uri": "https://localhost:8080/"
        },
        "outputId": "4548835f-6d4c-4ac9-ff16-0547bc299603"
      },
      "source": [
        "# seed 변경\n",
        "np.random.seed(0)\n",
        "np.random.randint(1,10,5)"
      ],
      "execution_count": 22,
      "outputs": [
        {
          "output_type": "execute_result",
          "data": {
            "text/plain": [
              "array([6, 1, 4, 4, 8])"
            ]
          },
          "metadata": {},
          "execution_count": 22
        }
      ]
    },
    {
      "cell_type": "markdown",
      "metadata": {
        "id": "Zg3g31drmDMI"
      },
      "source": [
        "---\n",
        "---"
      ]
    },
    {
      "cell_type": "markdown",
      "metadata": {
        "id": "YNVh_pbhfROq"
      },
      "source": [
        "## DIY: 도전 코딩 - numpy 정리 과제\n",
        "- 생성된 마구잡이수를 조사하고 사용하기 \n",
        "- 9월19일 자정 마감."
      ]
    },
    {
      "cell_type": "markdown",
      "metadata": {
        "id": "vxNHFDSIgMmC"
      },
      "source": [
        "### [도전 1.] 0부터 9까지의 마구잡이 정수를 1000개 만들고 각 수의 빈도를 구하시오. "
      ]
    },
    {
      "cell_type": "code",
      "metadata": {
        "id": "qkDfXH1xgjBz",
        "colab": {
          "base_uri": "https://localhost:8080/"
        },
        "outputId": "1040df1f-ea4c-4742-b7d2-23e9c0a1f592"
      },
      "source": [
        "# n1000=\n",
        "n1000 = np.random.randint(0,10,1000)\n",
        "n1000"
      ],
      "execution_count": 25,
      "outputs": [
        {
          "output_type": "execute_result",
          "data": {
            "text/plain": [
              "array([1, 5, 9, 8, 9, 4, 3, 0, 3, 5, 0, 2, 3, 8, 1, 3, 3, 3, 7, 0, 1, 9,\n",
              "       9, 0, 4, 7, 3, 2, 7, 2, 0, 0, 4, 5, 5, 6, 8, 4, 1, 4, 9, 8, 1, 1,\n",
              "       7, 9, 9, 3, 6, 7, 2, 0, 3, 5, 9, 4, 4, 6, 4, 4, 3, 4, 4, 8, 4, 3,\n",
              "       7, 5, 5, 0, 1, 5, 9, 3, 0, 5, 0, 1, 2, 4, 2, 0, 3, 2, 0, 7, 5, 9,\n",
              "       0, 2, 7, 2, 9, 2, 3, 3, 2, 3, 4, 1, 2, 9, 1, 4, 6, 8, 2, 3, 0, 0,\n",
              "       6, 0, 6, 3, 3, 8, 8, 8, 2, 3, 2, 0, 8, 8, 3, 8, 2, 8, 4, 3, 0, 4,\n",
              "       3, 6, 9, 8, 0, 8, 5, 9, 0, 9, 6, 5, 3, 1, 8, 0, 4, 9, 6, 5, 7, 8,\n",
              "       8, 9, 2, 8, 6, 6, 9, 1, 6, 8, 8, 3, 2, 3, 6, 3, 6, 5, 7, 0, 8, 4,\n",
              "       6, 5, 8, 2, 3, 9, 7, 5, 3, 4, 5, 3, 3, 7, 9, 9, 9, 7, 3, 2, 3, 9,\n",
              "       7, 7, 5, 1, 2, 2, 8, 1, 5, 8, 4, 0, 2, 5, 5, 0, 8, 1, 1, 0, 3, 8,\n",
              "       8, 4, 4, 0, 9, 3, 7, 3, 2, 1, 1, 2, 1, 4, 2, 5, 5, 5, 2, 5, 7, 7,\n",
              "       6, 1, 6, 7, 2, 3, 1, 9, 5, 9, 9, 2, 0, 9, 1, 9, 0, 6, 0, 4, 8, 4,\n",
              "       3, 3, 8, 8, 7, 0, 3, 8, 7, 7, 1, 8, 4, 7, 0, 4, 9, 0, 6, 4, 2, 4,\n",
              "       6, 3, 3, 7, 8, 5, 0, 8, 5, 4, 7, 4, 1, 3, 3, 9, 2, 5, 2, 3, 5, 7,\n",
              "       2, 7, 1, 6, 5, 0, 0, 3, 1, 9, 9, 6, 6, 7, 8, 8, 7, 0, 8, 6, 8, 9,\n",
              "       8, 3, 6, 1, 7, 4, 9, 2, 0, 8, 2, 7, 8, 4, 4, 1, 7, 6, 9, 4, 1, 5,\n",
              "       9, 7, 1, 3, 5, 7, 3, 6, 6, 7, 9, 1, 9, 6, 0, 3, 8, 4, 1, 4, 5, 0,\n",
              "       3, 1, 4, 4, 4, 0, 0, 8, 4, 6, 9, 3, 3, 2, 1, 2, 1, 3, 4, 1, 1, 0,\n",
              "       7, 8, 4, 3, 5, 6, 3, 2, 9, 8, 1, 4, 0, 8, 3, 9, 5, 5, 1, 7, 8, 6,\n",
              "       4, 7, 3, 5, 3, 6, 4, 7, 3, 0, 5, 9, 3, 7, 5, 5, 8, 0, 8, 3, 6, 9,\n",
              "       3, 2, 7, 0, 3, 0, 3, 6, 1, 9, 2, 9, 4, 9, 1, 3, 2, 4, 9, 7, 4, 9,\n",
              "       4, 1, 2, 7, 2, 3, 9, 7, 6, 6, 2, 3, 6, 0, 8, 0, 7, 6, 5, 9, 6, 5,\n",
              "       2, 7, 1, 9, 2, 2, 5, 6, 4, 2, 2, 1, 0, 9, 0, 2, 8, 3, 0, 8, 8, 1,\n",
              "       0, 5, 8, 2, 3, 5, 3, 8, 6, 4, 6, 3, 6, 2, 6, 5, 5, 9, 4, 6, 5, 1,\n",
              "       3, 3, 8, 9, 5, 5, 6, 0, 9, 7, 5, 1, 5, 6, 6, 8, 7, 5, 3, 2, 9, 9,\n",
              "       3, 2, 5, 4, 1, 5, 8, 3, 5, 8, 4, 1, 7, 8, 1, 2, 1, 1, 7, 5, 0, 4,\n",
              "       1, 1, 6, 6, 0, 2, 3, 7, 9, 2, 4, 9, 0, 6, 9, 2, 4, 7, 3, 0, 5, 4,\n",
              "       0, 2, 3, 1, 7, 1, 3, 4, 1, 7, 4, 0, 2, 7, 4, 0, 2, 6, 9, 2, 4, 9,\n",
              "       9, 5, 4, 4, 9, 8, 1, 5, 7, 0, 1, 3, 9, 2, 8, 2, 4, 8, 2, 9, 8, 7,\n",
              "       8, 2, 3, 3, 6, 0, 3, 6, 3, 9, 6, 3, 2, 2, 2, 6, 4, 6, 0, 4, 9, 2,\n",
              "       1, 6, 1, 7, 5, 6, 1, 6, 6, 6, 6, 2, 5, 2, 2, 3, 2, 9, 3, 8, 5, 4,\n",
              "       5, 1, 5, 8, 2, 9, 9, 5, 6, 4, 0, 8, 5, 5, 5, 1, 0, 0, 0, 0, 0, 7,\n",
              "       6, 3, 5, 4, 3, 4, 5, 1, 3, 6, 7, 4, 0, 0, 7, 3, 3, 0, 0, 9, 4, 4,\n",
              "       5, 8, 8, 0, 1, 5, 9, 9, 6, 1, 4, 0, 4, 7, 7, 7, 6, 2, 6, 0, 2, 7,\n",
              "       7, 2, 6, 1, 3, 7, 0, 5, 4, 5, 5, 3, 8, 0, 1, 5, 4, 1, 5, 0, 6, 8,\n",
              "       8, 6, 3, 4, 4, 3, 6, 5, 9, 8, 1, 3, 8, 1, 5, 8, 0, 3, 7, 1, 7, 8,\n",
              "       0, 7, 5, 9, 9, 6, 8, 7, 5, 9, 1, 0, 0, 5, 6, 3, 6, 1, 7, 7, 0, 7,\n",
              "       6, 0, 4, 2, 7, 5, 2, 8, 5, 6, 6, 4, 1, 5, 4, 5, 5, 6, 3, 8, 1, 4,\n",
              "       2, 9, 7, 4, 1, 8, 2, 3, 3, 4, 1, 6, 2, 5, 4, 9, 1, 5, 9, 4, 5, 7,\n",
              "       4, 4, 2, 2, 1, 3, 0, 1, 9, 1, 6, 9, 8, 6, 3, 0, 7, 3, 2, 5, 9, 7,\n",
              "       3, 4, 7, 6, 7, 3, 6, 9, 3, 7, 1, 3, 7, 8, 8, 4, 5, 3, 6, 9, 6, 2,\n",
              "       9, 3, 5, 7, 9, 0, 7, 1, 2, 5, 0, 5, 8, 9, 8, 2, 5, 3, 1, 7, 3, 8,\n",
              "       5, 5, 1, 9, 7, 2, 1, 0, 1, 0, 1, 1, 6, 8, 8, 3, 2, 0, 7, 4, 6, 0,\n",
              "       5, 3, 3, 9, 4, 9, 0, 6, 5, 3, 0, 0, 1, 2, 0, 2, 2, 9, 6, 7, 8, 9,\n",
              "       8, 2, 4, 7, 7, 5, 7, 2, 4, 1, 1, 1, 7, 9, 0, 9, 0, 2, 1, 4, 6, 0,\n",
              "       6, 6, 2, 8, 6, 6, 5, 2, 5, 0])"
            ]
          },
          "metadata": {},
          "execution_count": 25
        }
      ]
    },
    {
      "cell_type": "code",
      "metadata": {
        "id": "9_6nzbQD3FZi",
        "colab": {
          "base_uri": "https://localhost:8080/"
        },
        "outputId": "b53364ba-2d21-4ec0-f1b3-b2d7ea989a80"
      },
      "source": [
        "np.unique(n1000)"
      ],
      "execution_count": 45,
      "outputs": [
        {
          "output_type": "execute_result",
          "data": {
            "text/plain": [
              "array([0, 1, 2, 3, 4, 5, 6, 7, 8, 9])"
            ]
          },
          "metadata": {},
          "execution_count": 45
        }
      ]
    },
    {
      "cell_type": "code",
      "metadata": {
        "id": "eiw9R1243Rzp",
        "colab": {
          "base_uri": "https://localhost:8080/"
        },
        "outputId": "149cfeda-cb98-45c0-8788-e25a1ccd9b2c"
      },
      "source": [
        "# 각 수의 빈도\n",
        "np.unique(n1000, return_counts=True)"
      ],
      "execution_count": 46,
      "outputs": [
        {
          "output_type": "execute_result",
          "data": {
            "text/plain": [
              "(array([0, 1, 2, 3, 4, 5, 6, 7, 8, 9]),\n",
              " array([102, 115, 108,  79, 103,  88, 104,  87, 101, 113]))"
            ]
          },
          "metadata": {},
          "execution_count": 46
        }
      ]
    },
    {
      "cell_type": "code",
      "metadata": {
        "id": "Yb7XXMqrA_M5"
      },
      "source": [
        "value, count = np.unique(n1000, return_counts=True)"
      ],
      "execution_count": 47,
      "outputs": []
    },
    {
      "cell_type": "code",
      "metadata": {
        "colab": {
          "base_uri": "https://localhost:8080/"
        },
        "id": "Nx7qhGslBBXJ",
        "outputId": "cd626303-fcca-4a2c-dd67-f924f46e6d80"
      },
      "source": [
        "value, count"
      ],
      "execution_count": 48,
      "outputs": [
        {
          "output_type": "execute_result",
          "data": {
            "text/plain": [
              "(array([0, 1, 2, 3, 4, 5, 6, 7, 8, 9]),\n",
              " array([102, 115, 108,  79, 103,  88, 104,  87, 101, 113]))"
            ]
          },
          "metadata": {},
          "execution_count": 48
        }
      ]
    },
    {
      "cell_type": "markdown",
      "metadata": {
        "id": "cIhlY6-GghMN"
      },
      "source": [
        "### [도전 2.] 0부터 9까지의 마구잡이 정수를 1000개 만들고 각 수가 처음 출현하는 인덱스를 구하시오.\n",
        "> 0이 처음 나타날 때의 인덱스, 1이 처음 나타날 때의 인덱스, ... "
      ]
    },
    {
      "cell_type": "code",
      "metadata": {
        "colab": {
          "base_uri": "https://localhost:8080/"
        },
        "id": "dOYq-kQm_VT0",
        "outputId": "5d1236c4-565d-4051-b369-6254c9773e17"
      },
      "source": [
        "n1000[0],n1000[1]"
      ],
      "execution_count": 40,
      "outputs": [
        {
          "output_type": "execute_result",
          "data": {
            "text/plain": [
              "(9, 0)"
            ]
          },
          "metadata": {},
          "execution_count": 40
        }
      ]
    },
    {
      "cell_type": "code",
      "metadata": {
        "id": "oA1ec_RjgL3X"
      },
      "source": [
        "# 각 수가 처음 출현하는 인덱스\n",
        "value, index = np.unique(n1000, return_index=True)"
      ],
      "execution_count": 42,
      "outputs": []
    },
    {
      "cell_type": "code",
      "metadata": {
        "id": "yubibMMZ4AZS",
        "colab": {
          "base_uri": "https://localhost:8080/"
        },
        "outputId": "78c3c862-e891-4a69-86ab-fece4fc06477"
      },
      "source": [
        "n1000[index]"
      ],
      "execution_count": 36,
      "outputs": [
        {
          "output_type": "execute_result",
          "data": {
            "text/plain": [
              "array([0, 1, 2, 3, 4, 5, 6, 7, 8, 9])"
            ]
          },
          "metadata": {},
          "execution_count": 36
        }
      ]
    },
    {
      "cell_type": "code",
      "metadata": {
        "colab": {
          "base_uri": "https://localhost:8080/"
        },
        "id": "fOOxe9RWAqGq",
        "outputId": "8aca63a6-7ed6-4e93-b135-7da005d9d951"
      },
      "source": [
        "index"
      ],
      "execution_count": 44,
      "outputs": [
        {
          "output_type": "execute_result",
          "data": {
            "text/plain": [
              "array([ 1,  5, 29,  6, 10,  8, 17,  4,  7,  0])"
            ]
          },
          "metadata": {},
          "execution_count": 44
        }
      ]
    },
    {
      "cell_type": "markdown",
      "metadata": {
        "id": "sadkRzWjgiTM"
      },
      "source": [
        "### [도전 3.] seed를 1234로 고정하고, 위의 도전1,2를 다시 해보시오. "
      ]
    },
    {
      "cell_type": "code",
      "metadata": {
        "colab": {
          "base_uri": "https://localhost:8080/"
        },
        "id": "EB83-f9ODEGV",
        "outputId": "b1e0664f-8509-44c4-e2cf-3cedefef0b17"
      },
      "source": [
        "# 빈도\n",
        "\n",
        "n1000 = np.random.seed(1234)\n",
        "n1000 = np.random.randint(0,10,1000)\n",
        "np.unique(n1000)"
      ],
      "execution_count": 49,
      "outputs": [
        {
          "output_type": "execute_result",
          "data": {
            "text/plain": [
              "array([0, 1, 2, 3, 4, 5, 6, 7, 8, 9])"
            ]
          },
          "metadata": {},
          "execution_count": 49
        }
      ]
    },
    {
      "cell_type": "code",
      "metadata": {
        "colab": {
          "base_uri": "https://localhost:8080/"
        },
        "id": "mn4jUqKQDGUd",
        "outputId": "d70f43dd-1e51-4d65-e5e9-237c5950f02c"
      },
      "source": [
        "np.unique(n1000, return_counts=True)"
      ],
      "execution_count": 50,
      "outputs": [
        {
          "output_type": "execute_result",
          "data": {
            "text/plain": [
              "(array([0, 1, 2, 3, 4, 5, 6, 7, 8, 9]),\n",
              " array([ 93, 107, 107, 108,  97,  98,  89,  95,  90, 116]))"
            ]
          },
          "metadata": {},
          "execution_count": 50
        }
      ]
    },
    {
      "cell_type": "code",
      "metadata": {
        "colab": {
          "base_uri": "https://localhost:8080/"
        },
        "id": "KyJwEoUCDJ5t",
        "outputId": "3fac5918-d70f-4fbf-acc1-896966eaaf12"
      },
      "source": [
        "value, count = np.unique(n1000, return_counts=True)\n",
        "value, count"
      ],
      "execution_count": 52,
      "outputs": [
        {
          "output_type": "execute_result",
          "data": {
            "text/plain": [
              "(array([0, 1, 2, 3, 4, 5, 6, 7, 8, 9]),\n",
              " array([ 93, 107, 107, 108,  97,  98,  89,  95,  90, 116]))"
            ]
          },
          "metadata": {},
          "execution_count": 52
        }
      ]
    },
    {
      "cell_type": "code",
      "metadata": {
        "colab": {
          "base_uri": "https://localhost:8080/"
        },
        "id": "_gifyfpqDXm8",
        "outputId": "0ce2c802-f812-44a3-dd6b-2650d0b3b9d4"
      },
      "source": [
        "# 인덱스\n",
        "\n",
        "n1000 = np.random.seed(1234)\n",
        "n1000 = np.random.randint(0,10,1000)\n",
        "value, index = np.unique(n1000, return_index=True)\n",
        "n1000"
      ],
      "execution_count": 53,
      "outputs": [
        {
          "output_type": "execute_result",
          "data": {
            "text/plain": [
              "array([3, 6, 5, 4, 8, 9, 1, 7, 9, 6, 8, 0, 5, 0, 9, 6, 2, 0, 5, 2, 6, 3,\n",
              "       7, 0, 9, 0, 3, 2, 3, 1, 3, 1, 3, 7, 1, 7, 4, 0, 5, 1, 5, 9, 9, 4,\n",
              "       0, 9, 8, 8, 6, 8, 6, 3, 1, 2, 5, 2, 5, 6, 7, 4, 3, 5, 6, 4, 6, 2,\n",
              "       4, 2, 7, 9, 7, 7, 2, 9, 7, 4, 9, 0, 9, 2, 9, 1, 2, 9, 1, 5, 7, 4,\n",
              "       7, 7, 1, 4, 0, 5, 4, 9, 2, 9, 1, 3, 5, 9, 3, 0, 4, 4, 0, 6, 8, 4,\n",
              "       8, 1, 8, 9, 8, 2, 0, 2, 2, 3, 2, 9, 7, 4, 8, 1, 9, 2, 7, 4, 3, 2,\n",
              "       5, 5, 1, 0, 8, 4, 0, 0, 1, 0, 3, 9, 1, 9, 3, 7, 9, 3, 4, 4, 1, 1,\n",
              "       6, 2, 9, 8, 7, 8, 0, 8, 7, 9, 5, 6, 3, 9, 4, 7, 7, 1, 7, 2, 5, 2,\n",
              "       7, 2, 6, 8, 6, 1, 9, 3, 3, 4, 9, 7, 2, 8, 1, 9, 4, 3, 1, 0, 7, 8,\n",
              "       0, 9, 3, 9, 3, 9, 0, 5, 9, 2, 3, 1, 7, 1, 4, 7, 3, 8, 4, 5, 3, 8,\n",
              "       8, 8, 1, 3, 6, 8, 9, 1, 5, 8, 4, 1, 1, 1, 2, 3, 4, 2, 1, 9, 4, 0,\n",
              "       0, 2, 1, 2, 5, 9, 8, 8, 7, 5, 7, 0, 0, 6, 6, 1, 9, 4, 6, 7, 2, 0,\n",
              "       7, 0, 2, 8, 4, 8, 3, 2, 4, 7, 7, 0, 1, 1, 0, 0, 0, 1, 1, 9, 4, 9,\n",
              "       9, 5, 2, 4, 1, 0, 3, 5, 2, 3, 3, 5, 4, 5, 4, 0, 5, 6, 7, 3, 1, 5,\n",
              "       4, 5, 9, 1, 7, 6, 3, 3, 0, 0, 2, 3, 1, 6, 1, 3, 5, 6, 9, 2, 6, 6,\n",
              "       9, 7, 8, 9, 1, 3, 6, 6, 2, 2, 4, 9, 3, 8, 7, 5, 1, 3, 1, 3, 0, 2,\n",
              "       0, 3, 5, 2, 6, 6, 6, 4, 1, 0, 7, 4, 1, 8, 5, 9, 6, 2, 8, 7, 9, 7,\n",
              "       7, 3, 6, 5, 6, 8, 6, 5, 9, 1, 9, 2, 1, 9, 1, 5, 0, 2, 3, 8, 8, 1,\n",
              "       3, 7, 3, 5, 1, 5, 6, 9, 5, 0, 1, 3, 5, 8, 9, 9, 7, 8, 8, 9, 4, 4,\n",
              "       1, 5, 4, 6, 8, 7, 9, 4, 1, 7, 7, 0, 4, 6, 1, 9, 1, 1, 9, 0, 8, 1,\n",
              "       3, 7, 2, 8, 3, 2, 2, 3, 4, 1, 6, 3, 5, 2, 4, 2, 1, 3, 9, 7, 9, 7,\n",
              "       2, 5, 7, 5, 8, 5, 0, 4, 0, 9, 3, 1, 0, 0, 6, 4, 3, 4, 1, 8, 6, 8,\n",
              "       7, 1, 5, 7, 9, 1, 5, 6, 5, 1, 6, 0, 9, 2, 2, 1, 4, 9, 9, 6, 6, 2,\n",
              "       4, 1, 5, 5, 5, 5, 8, 6, 7, 2, 3, 9, 7, 2, 1, 1, 9, 6, 5, 9, 2, 1,\n",
              "       3, 8, 3, 8, 7, 3, 8, 0, 5, 0, 9, 9, 7, 4, 5, 6, 3, 8, 1, 7, 4, 1,\n",
              "       9, 2, 4, 3, 3, 9, 4, 2, 6, 0, 5, 4, 6, 6, 6, 3, 8, 8, 8, 5, 7, 9,\n",
              "       9, 0, 7, 8, 4, 6, 5, 7, 5, 9, 2, 6, 3, 0, 8, 1, 6, 0, 3, 7, 5, 0,\n",
              "       8, 9, 8, 5, 1, 9, 4, 6, 2, 6, 3, 3, 7, 3, 2, 8, 5, 2, 4, 8, 0, 5,\n",
              "       2, 3, 7, 2, 6, 1, 2, 4, 7, 2, 3, 5, 8, 4, 3, 5, 8, 0, 5, 3, 5, 3,\n",
              "       5, 6, 1, 1, 3, 1, 7, 3, 4, 1, 7, 0, 9, 8, 5, 9, 3, 8, 2, 3, 0, 9,\n",
              "       0, 4, 3, 4, 5, 0, 2, 7, 2, 8, 5, 3, 5, 0, 5, 9, 0, 6, 7, 2, 6, 6,\n",
              "       2, 2, 0, 1, 1, 3, 8, 3, 3, 2, 5, 9, 5, 4, 6, 9, 5, 9, 2, 5, 5, 6,\n",
              "       5, 7, 3, 0, 2, 3, 1, 9, 9, 8, 8, 0, 8, 6, 6, 1, 4, 3, 5, 5, 4, 9,\n",
              "       3, 8, 2, 3, 0, 6, 2, 8, 3, 3, 8, 2, 6, 2, 0, 3, 0, 3, 9, 0, 4, 2,\n",
              "       7, 1, 2, 2, 2, 1, 5, 9, 5, 3, 7, 1, 0, 1, 1, 8, 3, 5, 4, 4, 2, 4,\n",
              "       5, 6, 4, 2, 6, 1, 7, 6, 2, 3, 9, 4, 1, 4, 1, 0, 7, 3, 4, 5, 0, 8,\n",
              "       2, 2, 5, 4, 9, 5, 3, 3, 4, 6, 8, 4, 2, 2, 0, 6, 2, 8, 9, 2, 4, 3,\n",
              "       4, 4, 0, 8, 3, 4, 2, 9, 2, 8, 4, 0, 0, 6, 6, 7, 6, 7, 9, 3, 9, 7,\n",
              "       8, 2, 9, 1, 0, 6, 3, 8, 4, 9, 9, 6, 7, 9, 2, 3, 6, 4, 5, 8, 5, 9,\n",
              "       9, 7, 1, 0, 6, 3, 3, 4, 1, 8, 2, 8, 0, 3, 9, 0, 6, 6, 7, 7, 9, 2,\n",
              "       2, 1, 0, 9, 5, 0, 9, 7, 5, 3, 8, 2, 6, 4, 5, 6, 1, 9, 6, 3, 7, 0,\n",
              "       4, 9, 4, 4, 5, 1, 0, 9, 7, 0, 5, 3, 8, 9, 1, 7, 0, 9, 6, 8, 2, 1,\n",
              "       7, 5, 4, 0, 1, 1, 7, 8, 2, 7, 6, 9, 9, 2, 1, 1, 8, 9, 0, 7, 2, 4,\n",
              "       2, 9, 8, 1, 0, 1, 4, 4, 9, 9, 0, 1, 9, 9, 3, 1, 7, 2, 8, 4, 7, 4,\n",
              "       3, 2, 8, 4, 7, 7, 0, 1, 4, 6, 5, 5, 0, 5, 2, 0, 8, 3, 5, 7, 8, 4,\n",
              "       7, 6, 7, 7, 2, 7, 6, 0, 2, 6])"
            ]
          },
          "metadata": {},
          "execution_count": 53
        }
      ]
    },
    {
      "cell_type": "code",
      "metadata": {
        "colab": {
          "base_uri": "https://localhost:8080/"
        },
        "id": "-E0GOkT8DaYE",
        "outputId": "1b81f54b-a691-4651-9a48-a4973470c43c"
      },
      "source": [
        "n1000[0], n1000[1]"
      ],
      "execution_count": 54,
      "outputs": [
        {
          "output_type": "execute_result",
          "data": {
            "text/plain": [
              "(3, 6)"
            ]
          },
          "metadata": {},
          "execution_count": 54
        }
      ]
    },
    {
      "cell_type": "code",
      "metadata": {
        "colab": {
          "base_uri": "https://localhost:8080/"
        },
        "id": "atuOSFOGDboU",
        "outputId": "5cdb9c75-5479-4b7e-9835-fca6c94d8325"
      },
      "source": [
        "n1000[index]"
      ],
      "execution_count": 55,
      "outputs": [
        {
          "output_type": "execute_result",
          "data": {
            "text/plain": [
              "array([0, 1, 2, 3, 4, 5, 6, 7, 8, 9])"
            ]
          },
          "metadata": {},
          "execution_count": 55
        }
      ]
    },
    {
      "cell_type": "markdown",
      "metadata": {
        "id": "zAGojAainnox"
      },
      "source": [
        "### [도전 4.] 0부터 999까지의 마구잡이 정수로 구성되는 28X28 이차원배열을 만드시오.\n",
        "- 시드를 고정 : np.random.seed(1234)\n",
        "1. 각 행의 최대값, 최소갑을 구하시오.\n",
        "2. 배열 전체의 최대값, 최소값을 구하시오.\n",
        "3. 배열전체의 최대값, 최소값의 index를 각각 찾으시오."
      ]
    },
    {
      "cell_type": "code",
      "metadata": {
        "id": "NbZJi7IPDu3z"
      },
      "source": [
        "arrayRand = np.random.seed(1234)\n",
        "arrayRand = np.random.randint(0,1000, (28,28))"
      ],
      "execution_count": 62,
      "outputs": []
    },
    {
      "cell_type": "code",
      "metadata": {
        "colab": {
          "base_uri": "https://localhost:8080/"
        },
        "id": "b6rXyQuJEOCK",
        "outputId": "07e495a1-88dd-40e8-b37a-0c883037d308"
      },
      "source": [
        "arrayRand"
      ],
      "execution_count": 64,
      "outputs": [
        {
          "output_type": "execute_result",
          "data": {
            "text/plain": [
              "array([[815, 723, 294,  53, 204, 372, 664, 655, 689, 279, 233, 154,  30,\n",
              "        683, 158, 748, 892, 794, 374, 442, 120, 880, 476, 325, 336, 969,\n",
              "        383, 246],\n",
              "       [510, 431, 562, 752, 763,  76, 293, 802, 934, 506, 195, 743, 139,\n",
              "        640, 745, 843, 336,   3, 258, 275, 908, 961, 459, 371, 619, 465,\n",
              "         14, 243],\n",
              "       [455, 828, 490, 619, 942, 924,  81, 855, 781, 116, 608, 908, 197,\n",
              "        625, 991, 997, 671, 761, 601,  84,  45, 528,  41, 840, 440, 236,\n",
              "        838, 952],\n",
              "       [ 86, 940, 986, 979, 303, 689,  18, 597, 686, 482, 805, 365, 806,\n",
              "        135, 996, 707, 901, 750, 559, 244, 374, 687, 911, 546,  10, 284,\n",
              "          4,  82],\n",
              "       [103, 345, 311, 235, 334, 663, 434, 761, 574, 183, 340, 617, 256,\n",
              "        633, 354, 761, 346, 417, 882, 377, 497, 789, 967, 196, 119, 999,\n",
              "        465, 250],\n",
              "       [436, 448, 469, 372, 873, 626, 425,   1, 142, 771, 798, 396, 713,\n",
              "        877, 787,  26, 992,  68, 891, 996, 832, 150, 440, 980, 136, 684,\n",
              "        753, 920],\n",
              "       [990, 745, 527, 840, 898, 400, 619, 130, 754, 591, 195,  46, 482,\n",
              "        825, 439, 292, 600, 673, 377, 682, 514, 471, 365, 212, 291, 786,\n",
              "        332, 965],\n",
              "       [117, 593, 208, 520, 493,  75,  15, 788, 784, 448, 573, 881, 864,\n",
              "        638, 211, 313, 561, 318, 953, 211, 667, 343, 233, 931, 164, 596,\n",
              "        317, 540],\n",
              "       [257, 779, 702, 509, 657, 286, 806,  98, 921, 568, 487, 408,  12,\n",
              "        460, 864, 520, 303, 855, 793, 749, 789, 150, 429, 531,  41, 431,\n",
              "        932, 999],\n",
              "       [551, 913, 295, 955, 210, 379, 165,  98,  87, 550, 904, 694, 657,\n",
              "        553, 303, 659, 939, 940, 547, 938, 404, 794, 345, 107, 919, 642,\n",
              "        744, 577],\n",
              "       [729, 283, 974, 580, 987, 316, 874, 259, 209, 687, 957, 447,  32,\n",
              "        887, 909, 312,  48, 617, 314, 350, 931, 953, 316, 595, 505, 368,\n",
              "        757, 649],\n",
              "       [572, 178, 819, 433, 106, 711, 721, 260,   3, 127, 600, 558, 606,\n",
              "        509, 431, 575,  84,   5, 723, 380, 584, 840, 447, 696, 526, 337,\n",
              "        739, 316],\n",
              "       [358, 264,  41, 673, 837, 728, 575, 877, 628, 785, 513,   1, 130,\n",
              "        691, 333, 692, 114, 861, 654, 237, 943, 203, 193, 669, 521, 608,\n",
              "        336, 946],\n",
              "       [785,  31, 508, 863, 381, 970, 494, 907, 418, 565, 857, 472, 920,\n",
              "        478, 991, 439, 565,  23, 383, 186, 224, 784, 758, 774, 465, 462,\n",
              "        953, 132],\n",
              "       [814, 459, 390, 727, 402, 944, 935, 144, 994, 584, 174, 564, 424,\n",
              "        243, 941, 770, 700, 788, 615, 471, 458, 507, 844, 826, 384, 554,\n",
              "        913, 177],\n",
              "       [ 16, 944,  80, 849, 460, 863, 191, 561, 527, 665, 468, 873, 409,\n",
              "        325, 306, 110, 655, 852, 717,  46, 763, 529, 896, 707, 677,  82,\n",
              "        542, 666],\n",
              "       [316, 943, 963, 435, 933, 900, 549, 506, 875, 292, 592, 517, 822,\n",
              "        759, 730, 191, 211, 844, 140, 545,  85, 388, 101, 617, 433, 814,\n",
              "        695, 102],\n",
              "       [611, 787, 943, 364, 252, 810, 304, 763, 364,  90, 432,   2,  35,\n",
              "         46, 161, 508,  38, 737, 707, 430, 826, 933, 454, 162, 374, 198,\n",
              "        809, 922],\n",
              "       [ 10, 855, 280, 457, 524, 700, 257, 861, 179, 758, 134,  18, 946,\n",
              "        429, 548, 634, 857, 627, 814,  43, 973, 744,  55, 917, 542, 462,\n",
              "         97, 698],\n",
              "       [381, 291, 465, 563, 560, 734, 478, 898, 429, 575,   0, 223,  19,\n",
              "        517, 674, 922, 399, 134, 575, 635, 358, 102, 468, 657, 848, 343,\n",
              "        212, 810],\n",
              "       [ 26, 731, 481, 888, 606, 213, 238,  25, 172, 653, 557, 182, 715,\n",
              "        306, 862, 300,  88,  74, 332, 407, 105, 138, 599, 893, 567, 828,\n",
              "        211,  15],\n",
              "       [926, 710, 549, 566, 715,  79, 568,   6, 309, 457, 865, 745, 434,\n",
              "         74, 705, 302, 321, 261, 464, 130, 835, 447, 936, 152, 129, 253,\n",
              "        451, 231],\n",
              "       [  3, 621, 229, 510, 961, 997, 970, 620, 534, 857, 251, 269, 565,\n",
              "        303, 960, 268,  81, 531,  53, 861, 360,  41, 217, 215, 184, 136,\n",
              "        249, 526],\n",
              "       [756, 260, 988, 289,  53, 654, 475, 299, 796,  68, 710, 714, 856,\n",
              "        747, 263, 233, 559,  84, 383, 284, 273, 701, 391, 695, 448, 751,\n",
              "        884,  31],\n",
              "       [886, 698, 561, 251, 745, 476, 539, 353, 798,  43, 961, 729, 816,\n",
              "        792, 737,  15,   3,  26, 583, 338, 872, 943, 893, 847, 451, 562,\n",
              "        236, 370],\n",
              "       [179, 692, 177, 998, 941,  43, 707, 891, 623, 618, 773,  91, 254,\n",
              "        546, 332, 820, 594, 193, 947, 185, 327, 825, 983, 274, 773, 151,\n",
              "        781,  59],\n",
              "       [974, 666, 863, 661, 296, 997, 528, 372, 144, 249, 835, 609, 223,\n",
              "        720, 144, 604, 430, 502, 333, 452, 211, 532, 635, 751, 762, 747,\n",
              "        321, 184],\n",
              "       [ 54, 168, 647, 529,  79, 629, 939, 173, 877, 295, 569,  13, 897,\n",
              "        591, 748, 629, 390, 379, 149, 625, 966, 416, 249, 242, 732, 994,\n",
              "        812, 625]])"
            ]
          },
          "metadata": {},
          "execution_count": 64
        }
      ]
    },
    {
      "cell_type": "markdown",
      "metadata": {
        "id": "VoSu8rNOnwPU"
      },
      "source": [
        "---\n",
        "---"
      ]
    },
    {
      "cell_type": "markdown",
      "metadata": {
        "id": "ozoCcRquhg4p"
      },
      "source": [
        "## python graphics\n",
        "- matplotlib\n",
        "> import matplotlib.pyplot as plt"
      ]
    },
    {
      "cell_type": "markdown",
      "metadata": {
        "id": "h6yEJiGJ4Lbk"
      },
      "source": [
        "### 무작위수 분포 그려보기"
      ]
    },
    {
      "cell_type": "code",
      "metadata": {
        "id": "ngcwuNlfhrIQ"
      },
      "source": [
        "import matplotlib.pyplot as plt"
      ],
      "execution_count": 28,
      "outputs": []
    },
    {
      "cell_type": "code",
      "metadata": {
        "id": "jr30IHxvJDuE",
        "colab": {
          "base_uri": "https://localhost:8080/",
          "height": 319
        },
        "outputId": "3a31cef4-88a5-4a3a-8e98-79d0ccad029f"
      },
      "source": [
        "plt.hist(n1000,label=range(0,10), color='red') #, bins=100)\n",
        "# plt.show()"
      ],
      "execution_count": 29,
      "outputs": [
        {
          "output_type": "execute_result",
          "data": {
            "text/plain": [
              "(array([102.,  96.,  99., 119.,  99., 105.,  97.,  93.,  93.,  97.]),\n",
              " array([0. , 0.9, 1.8, 2.7, 3.6, 4.5, 5.4, 6.3, 7.2, 8.1, 9. ]),\n",
              " <a list of 10 Patch objects>)"
            ]
          },
          "metadata": {},
          "execution_count": 29
        },
        {
          "output_type": "display_data",
          "data": {
            "image/png": "[encoded data removed]",
            "text/plain": [
              "<Figure size 432x288 with 1 Axes>"
            ]
          },
          "metadata": {
            "needs_background": "light"
          }
        }
      ]
    },
    {
      "cell_type": "markdown",
      "metadata": {
        "id": "b-JcgSU-Ktyz"
      },
      "source": [
        "### [도전] 균일분포와 정규분포를 비교하는 그림을 그리시오."
      ]
    },
    {
      "cell_type": "code",
      "metadata": {
        "id": "k0XaT2f9JGZy",
        "colab": {
          "base_uri": "https://localhost:8080/",
          "height": 373
        },
        "outputId": "8ed9bea3-c2ec-4732-a011-4d550e09c317"
      },
      "source": [
        "plt.hist(np.random.rand(1000000))"
      ],
      "execution_count": 30,
      "outputs": [
        {
          "output_type": "execute_result",
          "data": {
            "text/plain": [
              "(array([ 99951.,  99654., 100233.,  99455.,  99920., 100468.,  99809.,\n",
              "        100005., 100486., 100019.]),\n",
              " array([7.07120317e-07, 1.00000608e-01, 2.00000510e-01, 3.00000411e-01,\n",
              "        4.00000313e-01, 5.00000214e-01, 6.00000115e-01, 7.00000017e-01,\n",
              "        7.99999918e-01, 8.99999819e-01, 9.99999721e-01]),\n",
              " <a list of 10 Patch objects>)"
            ]
          },
          "metadata": {},
          "execution_count": 30
        },
        {
          "output_type": "display_data",
          "data": {
            "image/png": "[encoded data removed]",
            "text/plain": [
              "<Figure size 432x288 with 1 Axes>"
            ]
          },
          "metadata": {
            "needs_background": "light"
          }
        }
      ]
    },
    {
      "cell_type": "code",
      "metadata": {
        "id": "T8SCqKVeMhBF",
        "colab": {
          "base_uri": "https://localhost:8080/",
          "height": 661
        },
        "outputId": "7387fde2-862c-425d-f29a-aa6a29cd71c1"
      },
      "source": [
        "plt.hist(np.random.randn(1000000), bins=50)"
      ],
      "execution_count": 31,
      "outputs": [
        {
          "output_type": "execute_result",
          "data": {
            "text/plain": [
              "(array([3.0000e+00, 4.0000e+00, 2.0000e+00, 1.8000e+01, 3.7000e+01,\n",
              "        6.7000e+01, 1.1700e+02, 2.5600e+02, 4.8400e+02, 8.7600e+02,\n",
              "        1.4960e+03, 2.6170e+03, 4.0940e+03, 6.4490e+03, 9.8350e+03,\n",
              "        1.4095e+04, 1.9928e+04, 2.6660e+04, 3.4635e+04, 4.3659e+04,\n",
              "        5.2216e+04, 6.0901e+04, 6.7906e+04, 7.3141e+04, 7.5655e+04,\n",
              "        7.6091e+04, 7.3838e+04, 6.8680e+04, 6.1775e+04, 5.3324e+04,\n",
              "        4.4326e+04, 3.6156e+04, 2.7668e+04, 2.0661e+04, 1.4744e+04,\n",
              "        1.0142e+04, 6.7460e+03, 4.3710e+03, 2.6700e+03, 1.6090e+03,\n",
              "        9.7300e+02, 5.0400e+02, 2.8500e+02, 1.5000e+02, 7.0000e+01,\n",
              "        3.2000e+01, 2.2000e+01, 8.0000e+00, 2.0000e+00, 2.0000e+00]),\n",
              " array([-4.8209399 , -4.62859179, -4.43624368, -4.24389557, -4.05154747,\n",
              "        -3.85919936, -3.66685125, -3.47450314, -3.28215503, -3.08980693,\n",
              "        -2.89745882, -2.70511071, -2.5127626 , -2.3204145 , -2.12806639,\n",
              "        -1.93571828, -1.74337017, -1.55102206, -1.35867396, -1.16632585,\n",
              "        -0.97397774, -0.78162963, -0.58928152, -0.39693342, -0.20458531,\n",
              "        -0.0122372 ,  0.18011091,  0.37245901,  0.56480712,  0.75715523,\n",
              "         0.94950334,  1.14185145,  1.33419955,  1.52654766,  1.71889577,\n",
              "         1.91124388,  2.10359199,  2.29594009,  2.4882882 ,  2.68063631,\n",
              "         2.87298442,  3.06533252,  3.25768063,  3.45002874,  3.64237685,\n",
              "         3.83472496,  4.02707306,  4.21942117,  4.41176928,  4.60411739,\n",
              "         4.7964655 ]),\n",
              " <a list of 50 Patch objects>)"
            ]
          },
          "metadata": {},
          "execution_count": 31
        },
        {
          "output_type": "display_data",
          "data": {
            "image/png": "[encoded data removed]",
            "text/plain": [
              "<Figure size 432x288 with 1 Axes>"
            ]
          },
          "metadata": {
            "needs_background": "light"
          }
        }
      ]
    },
    {
      "cell_type": "markdown",
      "metadata": {
        "id": "LYthn3089aqD"
      },
      "source": [
        "## 보충 코드"
      ]
    },
    {
      "cell_type": "code",
      "metadata": {
        "id": "BUkVDXTJMkwc",
        "colab": {
          "base_uri": "https://localhost:8080/"
        },
        "outputId": "eb31b3bf-c009-465b-9f95-e359f0d370f1"
      },
      "source": [
        "n1000 = np.random.randint(0,10,1000)\n",
        "n1000"
      ],
      "execution_count": 32,
      "outputs": [
        {
          "output_type": "execute_result",
          "data": {
            "text/plain": [
              "array([9, 0, 0, 0, 7, 1, 3, 8, 5, 8, 4, 4, 9, 9, 1, 0, 4, 6, 7, 0, 5, 8,\n",
              "       1, 7, 6, 7, 6, 6, 0, 2, 5, 0, 0, 6, 5, 0, 1, 6, 1, 8, 7, 2, 3, 6,\n",
              "       6, 3, 2, 2, 0, 1, 9, 7, 0, 9, 4, 6, 0, 9, 1, 8, 2, 8, 0, 1, 6, 2,\n",
              "       0, 9, 6, 2, 2, 3, 6, 6, 6, 2, 9, 7, 4, 4, 7, 6, 9, 4, 5, 7, 3, 8,\n",
              "       5, 7, 6, 0, 7, 1, 0, 6, 4, 4, 3, 4, 3, 9, 7, 6, 0, 1, 0, 8, 9, 8,\n",
              "       9, 1, 4, 8, 2, 6, 7, 2, 0, 2, 7, 7, 9, 5, 8, 3, 8, 5, 2, 1, 0, 1,\n",
              "       7, 0, 8, 3, 2, 9, 7, 7, 2, 1, 2, 9, 7, 3, 9, 3, 4, 7, 6, 9, 1, 2,\n",
              "       4, 0, 8, 1, 8, 4, 8, 8, 2, 5, 2, 2, 0, 4, 9, 0, 1, 7, 1, 1, 9, 2,\n",
              "       2, 1, 1, 8, 0, 1, 9, 1, 7, 3, 5, 3, 3, 1, 4, 1, 9, 5, 0, 4, 7, 1,\n",
              "       9, 8, 2, 3, 4, 8, 8, 0, 5, 9, 2, 9, 7, 8, 2, 2, 5, 7, 7, 8, 9, 9,\n",
              "       3, 9, 5, 2, 8, 9, 4, 2, 1, 8, 3, 1, 5, 1, 6, 7, 4, 8, 8, 5, 1, 3,\n",
              "       0, 5, 5, 6, 7, 7, 6, 6, 8, 8, 4, 3, 3, 6, 1, 0, 3, 7, 6, 1, 0, 1,\n",
              "       3, 3, 3, 3, 8, 5, 0, 2, 4, 3, 3, 1, 3, 9, 4, 0, 8, 4, 4, 4, 0, 4,\n",
              "       9, 8, 6, 4, 8, 6, 2, 7, 6, 9, 3, 4, 4, 5, 6, 9, 8, 0, 9, 9, 1, 0,\n",
              "       9, 4, 2, 6, 2, 1, 5, 7, 6, 1, 7, 0, 5, 6, 2, 6, 6, 8, 9, 8, 4, 4,\n",
              "       2, 3, 8, 3, 6, 0, 6, 7, 9, 4, 6, 9, 8, 4, 8, 7, 6, 0, 0, 5, 8, 3,\n",
              "       3, 9, 4, 9, 1, 0, 0, 0, 0, 7, 9, 9, 7, 9, 8, 3, 1, 1, 3, 2, 1, 2,\n",
              "       2, 9, 5, 1, 7, 3, 9, 5, 9, 9, 3, 5, 6, 2, 9, 9, 8, 4, 4, 5, 4, 4,\n",
              "       0, 9, 6, 2, 6, 2, 1, 3, 1, 2, 2, 5, 8, 9, 5, 2, 6, 4, 2, 6, 6, 6,\n",
              "       5, 6, 0, 1, 5, 7, 3, 0, 1, 5, 6, 9, 0, 7, 8, 6, 9, 3, 9, 3, 1, 7,\n",
              "       6, 7, 1, 8, 1, 1, 9, 6, 6, 1, 8, 1, 1, 0, 3, 6, 1, 7, 1, 4, 3, 9,\n",
              "       1, 6, 7, 8, 5, 6, 7, 5, 9, 4, 3, 6, 9, 0, 4, 9, 6, 5, 2, 1, 5, 6,\n",
              "       9, 8, 1, 8, 4, 5, 2, 0, 9, 4, 1, 5, 2, 0, 1, 6, 2, 7, 9, 8, 1, 5,\n",
              "       1, 6, 2, 7, 6, 6, 6, 3, 7, 4, 8, 0, 9, 2, 9, 8, 8, 7, 9, 8, 6, 4,\n",
              "       7, 0, 0, 1, 5, 2, 1, 0, 1, 0, 4, 2, 3, 9, 4, 4, 2, 9, 4, 7, 4, 5,\n",
              "       6, 4, 2, 5, 7, 3, 4, 2, 5, 4, 0, 7, 9, 4, 4, 6, 1, 6, 1, 8, 2, 3,\n",
              "       8, 5, 7, 0, 2, 9, 7, 4, 9, 0, 1, 5, 0, 0, 0, 2, 2, 2, 4, 3, 5, 3,\n",
              "       7, 7, 0, 0, 7, 1, 3, 8, 1, 2, 0, 8, 6, 8, 6, 4, 0, 1, 7, 2, 4, 3,\n",
              "       4, 9, 2, 4, 9, 0, 6, 4, 7, 6, 0, 4, 1, 0, 2, 2, 5, 6, 0, 5, 0, 1,\n",
              "       8, 4, 6, 8, 6, 6, 2, 3, 0, 5, 0, 8, 8, 1, 6, 6, 1, 3, 7, 3, 6, 7,\n",
              "       2, 8, 4, 7, 8, 7, 0, 8, 6, 9, 0, 1, 6, 2, 7, 8, 2, 4, 7, 1, 4, 6,\n",
              "       9, 3, 2, 6, 0, 0, 1, 7, 4, 5, 2, 0, 2, 4, 9, 0, 8, 5, 8, 6, 1, 1,\n",
              "       9, 1, 6, 1, 4, 1, 0, 1, 2, 2, 3, 9, 1, 7, 0, 7, 9, 2, 5, 7, 3, 3,\n",
              "       4, 7, 5, 9, 4, 8, 1, 4, 3, 2, 5, 9, 0, 1, 7, 9, 8, 6, 5, 7, 3, 5,\n",
              "       5, 8, 6, 6, 1, 4, 5, 3, 9, 7, 6, 1, 3, 4, 4, 0, 2, 2, 6, 0, 5, 2,\n",
              "       5, 0, 6, 3, 4, 3, 9, 4, 9, 0, 0, 1, 2, 9, 9, 1, 2, 8, 2, 5, 9, 9,\n",
              "       6, 9, 3, 6, 2, 5, 2, 9, 5, 4, 3, 7, 2, 5, 0, 9, 3, 8, 2, 3, 1, 0,\n",
              "       1, 6, 8, 0, 5, 6, 5, 3, 8, 8, 8, 2, 4, 4, 9, 7, 5, 9, 0, 2, 3, 5,\n",
              "       0, 5, 9, 0, 1, 5, 9, 1, 1, 9, 5, 2, 2, 4, 5, 4, 8, 4, 4, 4, 5, 4,\n",
              "       5, 8, 5, 8, 6, 0, 6, 7, 8, 1, 1, 2, 8, 2, 4, 8, 1, 1, 4, 8, 6, 7,\n",
              "       1, 2, 2, 1, 7, 5, 9, 1, 2, 4, 8, 0, 5, 4, 5, 5, 1, 7, 2, 1, 6, 8,\n",
              "       2, 2, 5, 0, 2, 3, 4, 9, 5, 4, 9, 7, 9, 1, 1, 9, 9, 8, 7, 2, 6, 1,\n",
              "       5, 8, 2, 4, 7, 0, 8, 3, 0, 8, 2, 3, 6, 3, 1, 9, 4, 4, 2, 4, 0, 0,\n",
              "       2, 1, 2, 5, 3, 1, 8, 2, 8, 8, 4, 1, 7, 0, 3, 9, 3, 8, 0, 7, 7, 9,\n",
              "       9, 7, 1, 6, 1, 2, 8, 9, 1, 8, 3, 8, 8, 5, 9, 9, 5, 5, 6, 4, 9, 4,\n",
              "       9, 5, 9, 8, 8, 2, 5, 6, 6, 9])"
            ]
          },
          "metadata": {},
          "execution_count": 32
        }
      ]
    },
    {
      "cell_type": "code",
      "metadata": {
        "id": "xza_yV8nMshU"
      },
      "source": [
        "value, count= np.unique(n1000, return_counts=True)"
      ],
      "execution_count": 33,
      "outputs": []
    },
    {
      "cell_type": "code",
      "metadata": {
        "id": "al1pM1aK9Vk7",
        "colab": {
          "base_uri": "https://localhost:8080/"
        },
        "outputId": "6595bf62-019d-4df7-e0b7-32921b07e9cf"
      },
      "source": [
        "value, count"
      ],
      "execution_count": 34,
      "outputs": [
        {
          "output_type": "execute_result",
          "data": {
            "text/plain": [
              "(array([0, 1, 2, 3, 4, 5, 6, 7, 8, 9]),\n",
              " array([102, 115, 108,  79, 103,  88, 104,  87, 101, 113]))"
            ]
          },
          "metadata": {},
          "execution_count": 34
        }
      ]
    }
  ]
}