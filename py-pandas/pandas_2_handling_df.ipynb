{
  "nbformat": 4,
  "nbformat_minor": 0,
  "metadata": {
    "kernelspec": {
      "name": "python3",
      "display_name": "Python 3"
    },
    "language_info": {
      "codemirror_mode": {
        "name": "ipython",
        "version": 3
      },
      "file_extension": ".py",
      "mimetype": "text/x-python",
      "name": "python",
      "nbconvert_exporter": "python",
      "pygments_lexer": "ipython3",
      "version": "3.6.6"
    },
    "colab": {
      "name": "pandas_2_handling_df.ipynb",
      "provenance": [],
      "collapsed_sections": [],
      "include_colab_link": true
    }
  },
  "cells": [
    {
      "cell_type": "markdown",
      "metadata": {
        "id": "view-in-github",
        "colab_type": "text"
      },
      "source": [
        "<a href=\"https://colab.research.google.com/github/Skystar728/pdm12/blob/main/py-pandas/pandas_2_handling_df.ipynb\" target=\"_parent\"><img src=\"https://colab.research.google.com/assets/colab-badge.svg\" alt=\"Open In Colab\"/></a>"
      ]
    },
    {
      "cell_type": "markdown",
      "metadata": {
        "id": "-a_Ksvwdx5pf"
      },
      "source": [
        "### Python module 3. **pandas**"
      ]
    },
    {
      "cell_type": "markdown",
      "metadata": {
        "id": "P_F0RSPKx5pl"
      },
      "source": [
        "# Using pandas"
      ]
    },
    {
      "cell_type": "markdown",
      "metadata": {
        "id": "FfxMgWUFx5pm"
      },
      "source": [
        "* [10 Minutes to pandas](https://pandas.pydata.org/pandas-docs/stable/10min.html)\n",
        "* [Pandas tutorial with interactive exercises](https://www.kaggle.com/pistak/pandas-tutorial-with-interactive-exercises)"
      ]
    },
    {
      "cell_type": "code",
      "metadata": {
        "id": "2mpGSeRlx5po"
      },
      "source": [
        "import pandas as pd\n",
        "import numpy as np\n",
        "import matplotlib.pyplot as plt\n",
        "# %matplotlib inline  # work for Jupyter notebook or lab"
      ],
      "execution_count": 1,
      "outputs": []
    },
    {
      "cell_type": "markdown",
      "metadata": {
        "id": "wq1nIp3F1fFB"
      },
      "source": [
        "\n",
        "\n",
        "---\n",
        "\n"
      ]
    },
    {
      "cell_type": "markdown",
      "metadata": {
        "id": "D3zoFQ4bx5qh"
      },
      "source": [
        "## [2] Handling DataFrame\n",
        "- head()\n",
        "- tail()\n",
        "- describe()\n",
        "- info()"
      ]
    },
    {
      "cell_type": "code",
      "metadata": {
        "id": "w2eNkCfLx5p-",
        "colab": {
          "base_uri": "https://localhost:8080/"
        },
        "outputId": "03f185cd-eb09-4143-bf7a-6b105f89bddb"
      },
      "source": [
        "# Creating a DataFrame by passing a NumPy array, with a datetime index and labeled columns:\n",
        "dates = pd.date_range('20210927', periods=6)\n",
        "dates"
      ],
      "execution_count": 2,
      "outputs": [
        {
          "output_type": "execute_result",
          "data": {
            "text/plain": [
              "DatetimeIndex(['2021-09-27', '2021-09-28', '2021-09-29', '2021-09-30',\n",
              "               '2021-10-01', '2021-10-02'],\n",
              "              dtype='datetime64[ns]', freq='D')"
            ]
          },
          "metadata": {},
          "execution_count": 2
        }
      ]
    },
    {
      "cell_type": "code",
      "metadata": {
        "id": "dHwUodTGx5qj",
        "colab": {
          "base_uri": "https://localhost:8080/",
          "height": 235
        },
        "outputId": "b3e579a9-924c-48e8-aa39-2d6abaef70ba"
      },
      "source": [
        "# head()\n",
        "df = pd.DataFrame(np.random.randn(6,4), index=dates, columns=list('ABCD'))\n",
        "df.head(6)"
      ],
      "execution_count": 3,
      "outputs": [
        {
          "output_type": "execute_result",
          "data": {
            "text/html": [
              "<div>\n",
              "<style scoped>\n",
              "    .dataframe tbody tr th:only-of-type {\n",
              "        vertical-align: middle;\n",
              "    }\n",
              "\n",
              "    .dataframe tbody tr th {\n",
              "        vertical-align: top;\n",
              "    }\n",
              "\n",
              "    .dataframe thead th {\n",
              "        text-align: right;\n",
              "    }\n",
              "</style>\n",
              "<table border=\"1\" class=\"dataframe\">\n",
              "  <thead>\n",
              "    <tr style=\"text-align: right;\">\n",
              "      <th></th>\n",
              "      <th>A</th>\n",
              "      <th>B</th>\n",
              "      <th>C</th>\n",
              "      <th>D</th>\n",
              "    </tr>\n",
              "  </thead>\n",
              "  <tbody>\n",
              "    <tr>\n",
              "      <th>2021-09-27</th>\n",
              "      <td>0.551678</td>\n",
              "      <td>0.487792</td>\n",
              "      <td>-0.739381</td>\n",
              "      <td>-0.039140</td>\n",
              "    </tr>\n",
              "    <tr>\n",
              "      <th>2021-09-28</th>\n",
              "      <td>-1.700939</td>\n",
              "      <td>1.067831</td>\n",
              "      <td>1.660949</td>\n",
              "      <td>1.466873</td>\n",
              "    </tr>\n",
              "    <tr>\n",
              "      <th>2021-09-29</th>\n",
              "      <td>0.111790</td>\n",
              "      <td>0.022835</td>\n",
              "      <td>-0.408941</td>\n",
              "      <td>-0.154508</td>\n",
              "    </tr>\n",
              "    <tr>\n",
              "      <th>2021-09-30</th>\n",
              "      <td>0.937764</td>\n",
              "      <td>-0.167536</td>\n",
              "      <td>1.327969</td>\n",
              "      <td>0.092816</td>\n",
              "    </tr>\n",
              "    <tr>\n",
              "      <th>2021-10-01</th>\n",
              "      <td>0.979073</td>\n",
              "      <td>0.517615</td>\n",
              "      <td>-2.130227</td>\n",
              "      <td>-0.968734</td>\n",
              "    </tr>\n",
              "    <tr>\n",
              "      <th>2021-10-02</th>\n",
              "      <td>-0.312458</td>\n",
              "      <td>0.465878</td>\n",
              "      <td>-1.226942</td>\n",
              "      <td>-1.298732</td>\n",
              "    </tr>\n",
              "  </tbody>\n",
              "</table>\n",
              "</div>"
            ],
            "text/plain": [
              "                   A         B         C         D\n",
              "2021-09-27  0.551678  0.487792 -0.739381 -0.039140\n",
              "2021-09-28 -1.700939  1.067831  1.660949  1.466873\n",
              "2021-09-29  0.111790  0.022835 -0.408941 -0.154508\n",
              "2021-09-30  0.937764 -0.167536  1.327969  0.092816\n",
              "2021-10-01  0.979073  0.517615 -2.130227 -0.968734\n",
              "2021-10-02 -0.312458  0.465878 -1.226942 -1.298732"
            ]
          },
          "metadata": {},
          "execution_count": 3
        }
      ]
    },
    {
      "cell_type": "code",
      "metadata": {
        "id": "OvYDoBVE1og9",
        "colab": {
          "base_uri": "https://localhost:8080/",
          "height": 111
        },
        "outputId": "da29f284-c4b9-4326-e5c8-238f0354dc91"
      },
      "source": [
        "df.head(2)"
      ],
      "execution_count": 4,
      "outputs": [
        {
          "output_type": "execute_result",
          "data": {
            "text/html": [
              "<div>\n",
              "<style scoped>\n",
              "    .dataframe tbody tr th:only-of-type {\n",
              "        vertical-align: middle;\n",
              "    }\n",
              "\n",
              "    .dataframe tbody tr th {\n",
              "        vertical-align: top;\n",
              "    }\n",
              "\n",
              "    .dataframe thead th {\n",
              "        text-align: right;\n",
              "    }\n",
              "</style>\n",
              "<table border=\"1\" class=\"dataframe\">\n",
              "  <thead>\n",
              "    <tr style=\"text-align: right;\">\n",
              "      <th></th>\n",
              "      <th>A</th>\n",
              "      <th>B</th>\n",
              "      <th>C</th>\n",
              "      <th>D</th>\n",
              "    </tr>\n",
              "  </thead>\n",
              "  <tbody>\n",
              "    <tr>\n",
              "      <th>2021-09-27</th>\n",
              "      <td>0.551678</td>\n",
              "      <td>0.487792</td>\n",
              "      <td>-0.739381</td>\n",
              "      <td>-0.039140</td>\n",
              "    </tr>\n",
              "    <tr>\n",
              "      <th>2021-09-28</th>\n",
              "      <td>-1.700939</td>\n",
              "      <td>1.067831</td>\n",
              "      <td>1.660949</td>\n",
              "      <td>1.466873</td>\n",
              "    </tr>\n",
              "  </tbody>\n",
              "</table>\n",
              "</div>"
            ],
            "text/plain": [
              "                   A         B         C         D\n",
              "2021-09-27  0.551678  0.487792 -0.739381 -0.039140\n",
              "2021-09-28 -1.700939  1.067831  1.660949  1.466873"
            ]
          },
          "metadata": {},
          "execution_count": 4
        }
      ]
    },
    {
      "cell_type": "code",
      "metadata": {
        "id": "LzWwuDWDx5qo",
        "colab": {
          "base_uri": "https://localhost:8080/",
          "height": 142
        },
        "outputId": "ba2c0d75-64ca-445d-ce13-656700d9dcb0"
      },
      "source": [
        "df.tail(3)"
      ],
      "execution_count": 5,
      "outputs": [
        {
          "output_type": "execute_result",
          "data": {
            "text/html": [
              "<div>\n",
              "<style scoped>\n",
              "    .dataframe tbody tr th:only-of-type {\n",
              "        vertical-align: middle;\n",
              "    }\n",
              "\n",
              "    .dataframe tbody tr th {\n",
              "        vertical-align: top;\n",
              "    }\n",
              "\n",
              "    .dataframe thead th {\n",
              "        text-align: right;\n",
              "    }\n",
              "</style>\n",
              "<table border=\"1\" class=\"dataframe\">\n",
              "  <thead>\n",
              "    <tr style=\"text-align: right;\">\n",
              "      <th></th>\n",
              "      <th>A</th>\n",
              "      <th>B</th>\n",
              "      <th>C</th>\n",
              "      <th>D</th>\n",
              "    </tr>\n",
              "  </thead>\n",
              "  <tbody>\n",
              "    <tr>\n",
              "      <th>2021-09-30</th>\n",
              "      <td>0.937764</td>\n",
              "      <td>-0.167536</td>\n",
              "      <td>1.327969</td>\n",
              "      <td>0.092816</td>\n",
              "    </tr>\n",
              "    <tr>\n",
              "      <th>2021-10-01</th>\n",
              "      <td>0.979073</td>\n",
              "      <td>0.517615</td>\n",
              "      <td>-2.130227</td>\n",
              "      <td>-0.968734</td>\n",
              "    </tr>\n",
              "    <tr>\n",
              "      <th>2021-10-02</th>\n",
              "      <td>-0.312458</td>\n",
              "      <td>0.465878</td>\n",
              "      <td>-1.226942</td>\n",
              "      <td>-1.298732</td>\n",
              "    </tr>\n",
              "  </tbody>\n",
              "</table>\n",
              "</div>"
            ],
            "text/plain": [
              "                   A         B         C         D\n",
              "2021-09-30  0.937764 -0.167536  1.327969  0.092816\n",
              "2021-10-01  0.979073  0.517615 -2.130227 -0.968734\n",
              "2021-10-02 -0.312458  0.465878 -1.226942 -1.298732"
            ]
          },
          "metadata": {},
          "execution_count": 5
        }
      ]
    },
    {
      "cell_type": "code",
      "metadata": {
        "id": "rJLH024Zx5qs",
        "colab": {
          "base_uri": "https://localhost:8080/"
        },
        "outputId": "aa3960f2-a840-4a19-d544-e95ef97c4e3b"
      },
      "source": [
        "# Display the index, columns, and the underlying NumPy data:\n",
        "df.index"
      ],
      "execution_count": 6,
      "outputs": [
        {
          "output_type": "execute_result",
          "data": {
            "text/plain": [
              "DatetimeIndex(['2021-09-27', '2021-09-28', '2021-09-29', '2021-09-30',\n",
              "               '2021-10-01', '2021-10-02'],\n",
              "              dtype='datetime64[ns]', freq='D')"
            ]
          },
          "metadata": {},
          "execution_count": 6
        }
      ]
    },
    {
      "cell_type": "code",
      "metadata": {
        "id": "edrGpQlLc0dt",
        "colab": {
          "base_uri": "https://localhost:8080/"
        },
        "outputId": "9ab0773e-125d-4f7d-d433-5a87ca860cdd"
      },
      "source": [
        "df.columns  # 열의 이름"
      ],
      "execution_count": 7,
      "outputs": [
        {
          "output_type": "execute_result",
          "data": {
            "text/plain": [
              "Index(['A', 'B', 'C', 'D'], dtype='object')"
            ]
          },
          "metadata": {},
          "execution_count": 7
        }
      ]
    },
    {
      "cell_type": "code",
      "metadata": {
        "id": "TB-CHW85x5rA",
        "colab": {
          "base_uri": "https://localhost:8080/"
        },
        "outputId": "dd3c121a-5b95-4474-ad7b-2b38bf642bb2"
      },
      "source": [
        "df.info()   "
      ],
      "execution_count": 8,
      "outputs": [
        {
          "output_type": "stream",
          "name": "stdout",
          "text": [
            "<class 'pandas.core.frame.DataFrame'>\n",
            "DatetimeIndex: 6 entries, 2021-09-27 to 2021-10-02\n",
            "Freq: D\n",
            "Data columns (total 4 columns):\n",
            " #   Column  Non-Null Count  Dtype  \n",
            "---  ------  --------------  -----  \n",
            " 0   A       6 non-null      float64\n",
            " 1   B       6 non-null      float64\n",
            " 2   C       6 non-null      float64\n",
            " 3   D       6 non-null      float64\n",
            "dtypes: float64(4)\n",
            "memory usage: 240.0 bytes\n"
          ]
        }
      ]
    },
    {
      "cell_type": "code",
      "metadata": {
        "id": "PEzVmjUAx5q7",
        "colab": {
          "base_uri": "https://localhost:8080/",
          "height": 297
        },
        "outputId": "eea0e754-5822-4353-f699-38b683a9788c"
      },
      "source": [
        "# describe() shows a quick statistic summary of your data:\n",
        "df.describe()"
      ],
      "execution_count": 9,
      "outputs": [
        {
          "output_type": "execute_result",
          "data": {
            "text/html": [
              "<div>\n",
              "<style scoped>\n",
              "    .dataframe tbody tr th:only-of-type {\n",
              "        vertical-align: middle;\n",
              "    }\n",
              "\n",
              "    .dataframe tbody tr th {\n",
              "        vertical-align: top;\n",
              "    }\n",
              "\n",
              "    .dataframe thead th {\n",
              "        text-align: right;\n",
              "    }\n",
              "</style>\n",
              "<table border=\"1\" class=\"dataframe\">\n",
              "  <thead>\n",
              "    <tr style=\"text-align: right;\">\n",
              "      <th></th>\n",
              "      <th>A</th>\n",
              "      <th>B</th>\n",
              "      <th>C</th>\n",
              "      <th>D</th>\n",
              "    </tr>\n",
              "  </thead>\n",
              "  <tbody>\n",
              "    <tr>\n",
              "      <th>count</th>\n",
              "      <td>6.000000</td>\n",
              "      <td>6.000000</td>\n",
              "      <td>6.000000</td>\n",
              "      <td>6.000000</td>\n",
              "    </tr>\n",
              "    <tr>\n",
              "      <th>mean</th>\n",
              "      <td>0.094485</td>\n",
              "      <td>0.399069</td>\n",
              "      <td>-0.252762</td>\n",
              "      <td>-0.150237</td>\n",
              "    </tr>\n",
              "    <tr>\n",
              "      <th>std</th>\n",
              "      <td>1.009167</td>\n",
              "      <td>0.432718</td>\n",
              "      <td>1.476218</td>\n",
              "      <td>0.967001</td>\n",
              "    </tr>\n",
              "    <tr>\n",
              "      <th>min</th>\n",
              "      <td>-1.700939</td>\n",
              "      <td>-0.167536</td>\n",
              "      <td>-2.130227</td>\n",
              "      <td>-1.298732</td>\n",
              "    </tr>\n",
              "    <tr>\n",
              "      <th>25%</th>\n",
              "      <td>-0.206396</td>\n",
              "      <td>0.133596</td>\n",
              "      <td>-1.105052</td>\n",
              "      <td>-0.765177</td>\n",
              "    </tr>\n",
              "    <tr>\n",
              "      <th>50%</th>\n",
              "      <td>0.331734</td>\n",
              "      <td>0.476835</td>\n",
              "      <td>-0.574161</td>\n",
              "      <td>-0.096824</td>\n",
              "    </tr>\n",
              "    <tr>\n",
              "      <th>75%</th>\n",
              "      <td>0.841242</td>\n",
              "      <td>0.510159</td>\n",
              "      <td>0.893741</td>\n",
              "      <td>0.059827</td>\n",
              "    </tr>\n",
              "    <tr>\n",
              "      <th>max</th>\n",
              "      <td>0.979073</td>\n",
              "      <td>1.067831</td>\n",
              "      <td>1.660949</td>\n",
              "      <td>1.466873</td>\n",
              "    </tr>\n",
              "  </tbody>\n",
              "</table>\n",
              "</div>"
            ],
            "text/plain": [
              "              A         B         C         D\n",
              "count  6.000000  6.000000  6.000000  6.000000\n",
              "mean   0.094485  0.399069 -0.252762 -0.150237\n",
              "std    1.009167  0.432718  1.476218  0.967001\n",
              "min   -1.700939 -0.167536 -2.130227 -1.298732\n",
              "25%   -0.206396  0.133596 -1.105052 -0.765177\n",
              "50%    0.331734  0.476835 -0.574161 -0.096824\n",
              "75%    0.841242  0.510159  0.893741  0.059827\n",
              "max    0.979073  1.067831  1.660949  1.466873"
            ]
          },
          "metadata": {},
          "execution_count": 9
        }
      ]
    },
    {
      "cell_type": "code",
      "metadata": {
        "id": "ExhpF6H8dDKo",
        "colab": {
          "base_uri": "https://localhost:8080/",
          "height": 173
        },
        "outputId": "346fb483-b678-4b0e-de06-b2e8218d9ebb"
      },
      "source": [
        "df.describe().T"
      ],
      "execution_count": 10,
      "outputs": [
        {
          "output_type": "execute_result",
          "data": {
            "text/html": [
              "<div>\n",
              "<style scoped>\n",
              "    .dataframe tbody tr th:only-of-type {\n",
              "        vertical-align: middle;\n",
              "    }\n",
              "\n",
              "    .dataframe tbody tr th {\n",
              "        vertical-align: top;\n",
              "    }\n",
              "\n",
              "    .dataframe thead th {\n",
              "        text-align: right;\n",
              "    }\n",
              "</style>\n",
              "<table border=\"1\" class=\"dataframe\">\n",
              "  <thead>\n",
              "    <tr style=\"text-align: right;\">\n",
              "      <th></th>\n",
              "      <th>count</th>\n",
              "      <th>mean</th>\n",
              "      <th>std</th>\n",
              "      <th>min</th>\n",
              "      <th>25%</th>\n",
              "      <th>50%</th>\n",
              "      <th>75%</th>\n",
              "      <th>max</th>\n",
              "    </tr>\n",
              "  </thead>\n",
              "  <tbody>\n",
              "    <tr>\n",
              "      <th>A</th>\n",
              "      <td>6.0</td>\n",
              "      <td>0.094485</td>\n",
              "      <td>1.009167</td>\n",
              "      <td>-1.700939</td>\n",
              "      <td>-0.206396</td>\n",
              "      <td>0.331734</td>\n",
              "      <td>0.841242</td>\n",
              "      <td>0.979073</td>\n",
              "    </tr>\n",
              "    <tr>\n",
              "      <th>B</th>\n",
              "      <td>6.0</td>\n",
              "      <td>0.399069</td>\n",
              "      <td>0.432718</td>\n",
              "      <td>-0.167536</td>\n",
              "      <td>0.133596</td>\n",
              "      <td>0.476835</td>\n",
              "      <td>0.510159</td>\n",
              "      <td>1.067831</td>\n",
              "    </tr>\n",
              "    <tr>\n",
              "      <th>C</th>\n",
              "      <td>6.0</td>\n",
              "      <td>-0.252762</td>\n",
              "      <td>1.476218</td>\n",
              "      <td>-2.130227</td>\n",
              "      <td>-1.105052</td>\n",
              "      <td>-0.574161</td>\n",
              "      <td>0.893741</td>\n",
              "      <td>1.660949</td>\n",
              "    </tr>\n",
              "    <tr>\n",
              "      <th>D</th>\n",
              "      <td>6.0</td>\n",
              "      <td>-0.150237</td>\n",
              "      <td>0.967001</td>\n",
              "      <td>-1.298732</td>\n",
              "      <td>-0.765177</td>\n",
              "      <td>-0.096824</td>\n",
              "      <td>0.059827</td>\n",
              "      <td>1.466873</td>\n",
              "    </tr>\n",
              "  </tbody>\n",
              "</table>\n",
              "</div>"
            ],
            "text/plain": [
              "   count      mean       std       min       25%       50%       75%       max\n",
              "A    6.0  0.094485  1.009167 -1.700939 -0.206396  0.331734  0.841242  0.979073\n",
              "B    6.0  0.399069  0.432718 -0.167536  0.133596  0.476835  0.510159  1.067831\n",
              "C    6.0 -0.252762  1.476218 -2.130227 -1.105052 -0.574161  0.893741  1.660949\n",
              "D    6.0 -0.150237  0.967001 -1.298732 -0.765177 -0.096824  0.059827  1.466873"
            ]
          },
          "metadata": {},
          "execution_count": 10
        }
      ]
    },
    {
      "cell_type": "code",
      "metadata": {
        "id": "Br9VwFVex5rE",
        "colab": {
          "base_uri": "https://localhost:8080/",
          "height": 173
        },
        "outputId": "bf415c82-7459-4e53-d253-a93d27afb2b5"
      },
      "source": [
        "# Transposing your dataframe:\n",
        "df.T"
      ],
      "execution_count": 11,
      "outputs": [
        {
          "output_type": "execute_result",
          "data": {
            "text/html": [
              "<div>\n",
              "<style scoped>\n",
              "    .dataframe tbody tr th:only-of-type {\n",
              "        vertical-align: middle;\n",
              "    }\n",
              "\n",
              "    .dataframe tbody tr th {\n",
              "        vertical-align: top;\n",
              "    }\n",
              "\n",
              "    .dataframe thead th {\n",
              "        text-align: right;\n",
              "    }\n",
              "</style>\n",
              "<table border=\"1\" class=\"dataframe\">\n",
              "  <thead>\n",
              "    <tr style=\"text-align: right;\">\n",
              "      <th></th>\n",
              "      <th>2021-09-27</th>\n",
              "      <th>2021-09-28</th>\n",
              "      <th>2021-09-29</th>\n",
              "      <th>2021-09-30</th>\n",
              "      <th>2021-10-01</th>\n",
              "      <th>2021-10-02</th>\n",
              "    </tr>\n",
              "  </thead>\n",
              "  <tbody>\n",
              "    <tr>\n",
              "      <th>A</th>\n",
              "      <td>0.551678</td>\n",
              "      <td>-1.700939</td>\n",
              "      <td>0.111790</td>\n",
              "      <td>0.937764</td>\n",
              "      <td>0.979073</td>\n",
              "      <td>-0.312458</td>\n",
              "    </tr>\n",
              "    <tr>\n",
              "      <th>B</th>\n",
              "      <td>0.487792</td>\n",
              "      <td>1.067831</td>\n",
              "      <td>0.022835</td>\n",
              "      <td>-0.167536</td>\n",
              "      <td>0.517615</td>\n",
              "      <td>0.465878</td>\n",
              "    </tr>\n",
              "    <tr>\n",
              "      <th>C</th>\n",
              "      <td>-0.739381</td>\n",
              "      <td>1.660949</td>\n",
              "      <td>-0.408941</td>\n",
              "      <td>1.327969</td>\n",
              "      <td>-2.130227</td>\n",
              "      <td>-1.226942</td>\n",
              "    </tr>\n",
              "    <tr>\n",
              "      <th>D</th>\n",
              "      <td>-0.039140</td>\n",
              "      <td>1.466873</td>\n",
              "      <td>-0.154508</td>\n",
              "      <td>0.092816</td>\n",
              "      <td>-0.968734</td>\n",
              "      <td>-1.298732</td>\n",
              "    </tr>\n",
              "  </tbody>\n",
              "</table>\n",
              "</div>"
            ],
            "text/plain": [
              "   2021-09-27  2021-09-28  2021-09-29  2021-09-30  2021-10-01  2021-10-02\n",
              "A    0.551678   -1.700939    0.111790    0.937764    0.979073   -0.312458\n",
              "B    0.487792    1.067831    0.022835   -0.167536    0.517615    0.465878\n",
              "C   -0.739381    1.660949   -0.408941    1.327969   -2.130227   -1.226942\n",
              "D   -0.039140    1.466873   -0.154508    0.092816   -0.968734   -1.298732"
            ]
          },
          "metadata": {},
          "execution_count": 11
        }
      ]
    },
    {
      "cell_type": "code",
      "metadata": {
        "id": "vkg1gQUVLoy9",
        "colab": {
          "base_uri": "https://localhost:8080/"
        },
        "outputId": "8ebd418b-45ed-456b-9d24-c06b25790815"
      },
      "source": [
        "df.T.index"
      ],
      "execution_count": 12,
      "outputs": [
        {
          "output_type": "execute_result",
          "data": {
            "text/plain": [
              "Index(['A', 'B', 'C', 'D'], dtype='object')"
            ]
          },
          "metadata": {},
          "execution_count": 12
        }
      ]
    },
    {
      "cell_type": "markdown",
      "metadata": {
        "id": "A4lHGd4px5rU"
      },
      "source": [
        "### Sorting"
      ]
    },
    {
      "cell_type": "markdown",
      "metadata": {
        "id": "jlXuIbzD6oUD"
      },
      "source": [
        "#### Sort by index\n",
        "- sort_index(axis=0, ascending=False)\n",
        "- sort_index(axis=1, ascending=False)\n",
        "\n",
        "> Axis=0 Column-Wise Operation (수직으로)\n",
        "\n",
        "> Axis=1 Row-Wise Operation (수평으로)"
      ]
    },
    {
      "cell_type": "code",
      "metadata": {
        "id": "RM9Rlk64x5rW",
        "colab": {
          "base_uri": "https://localhost:8080/"
        },
        "outputId": "cc7ec69d-aa68-45b0-c616-f0370d1b0c9f"
      },
      "source": [
        "# Sorting by an axis:\n",
        "df, df.sort_index(axis=0, ascending=False)  # ascendinng =  False시 최근순으로 정렬"
      ],
      "execution_count": 13,
      "outputs": [
        {
          "output_type": "execute_result",
          "data": {
            "text/plain": [
              "(                   A         B         C         D\n",
              " 2021-09-27  0.551678  0.487792 -0.739381 -0.039140\n",
              " 2021-09-28 -1.700939  1.067831  1.660949  1.466873\n",
              " 2021-09-29  0.111790  0.022835 -0.408941 -0.154508\n",
              " 2021-09-30  0.937764 -0.167536  1.327969  0.092816\n",
              " 2021-10-01  0.979073  0.517615 -2.130227 -0.968734\n",
              " 2021-10-02 -0.312458  0.465878 -1.226942 -1.298732,\n",
              "                    A         B         C         D\n",
              " 2021-10-02 -0.312458  0.465878 -1.226942 -1.298732\n",
              " 2021-10-01  0.979073  0.517615 -2.130227 -0.968734\n",
              " 2021-09-30  0.937764 -0.167536  1.327969  0.092816\n",
              " 2021-09-29  0.111790  0.022835 -0.408941 -0.154508\n",
              " 2021-09-28 -1.700939  1.067831  1.660949  1.466873\n",
              " 2021-09-27  0.551678  0.487792 -0.739381 -0.039140)"
            ]
          },
          "metadata": {},
          "execution_count": 13
        }
      ]
    },
    {
      "cell_type": "code",
      "metadata": {
        "id": "w_7d__Hsx5rb",
        "colab": {
          "base_uri": "https://localhost:8080/"
        },
        "outputId": "82164dfe-9e34-486c-88fd-b0d2f08001da"
      },
      "source": [
        "df,df.sort_index(axis=1, ascending=False)"
      ],
      "execution_count": 14,
      "outputs": [
        {
          "output_type": "execute_result",
          "data": {
            "text/plain": [
              "(                   A         B         C         D\n",
              " 2021-09-27  0.551678  0.487792 -0.739381 -0.039140\n",
              " 2021-09-28 -1.700939  1.067831  1.660949  1.466873\n",
              " 2021-09-29  0.111790  0.022835 -0.408941 -0.154508\n",
              " 2021-09-30  0.937764 -0.167536  1.327969  0.092816\n",
              " 2021-10-01  0.979073  0.517615 -2.130227 -0.968734\n",
              " 2021-10-02 -0.312458  0.465878 -1.226942 -1.298732,\n",
              "                    D         C         B         A\n",
              " 2021-09-27 -0.039140 -0.739381  0.487792  0.551678\n",
              " 2021-09-28  1.466873  1.660949  1.067831 -1.700939\n",
              " 2021-09-29 -0.154508 -0.408941  0.022835  0.111790\n",
              " 2021-09-30  0.092816  1.327969 -0.167536  0.937764\n",
              " 2021-10-01 -0.968734 -2.130227  0.517615  0.979073\n",
              " 2021-10-02 -1.298732 -1.226942  0.465878 -0.312458)"
            ]
          },
          "metadata": {},
          "execution_count": 14
        }
      ]
    },
    {
      "cell_type": "markdown",
      "metadata": {
        "id": "8J59I-KW6yNK"
      },
      "source": [
        "#### Sort by value\n",
        "- sort_values(by='column')"
      ]
    },
    {
      "cell_type": "code",
      "metadata": {
        "id": "VJw7_sTLx5rg",
        "colab": {
          "base_uri": "https://localhost:8080/"
        },
        "outputId": "8799e6bb-7d07-47a3-b43f-2082853bdd95"
      },
      "source": [
        "# Sorting by values:\n",
        "df,df.sort_values(by='B') #, ascending=False)   # B 열을 기준으로 데이터 프레임의 구조가 재정렬됨"
      ],
      "execution_count": 15,
      "outputs": [
        {
          "output_type": "execute_result",
          "data": {
            "text/plain": [
              "(                   A         B         C         D\n",
              " 2021-09-27  0.551678  0.487792 -0.739381 -0.039140\n",
              " 2021-09-28 -1.700939  1.067831  1.660949  1.466873\n",
              " 2021-09-29  0.111790  0.022835 -0.408941 -0.154508\n",
              " 2021-09-30  0.937764 -0.167536  1.327969  0.092816\n",
              " 2021-10-01  0.979073  0.517615 -2.130227 -0.968734\n",
              " 2021-10-02 -0.312458  0.465878 -1.226942 -1.298732,\n",
              "                    A         B         C         D\n",
              " 2021-09-30  0.937764 -0.167536  1.327969  0.092816\n",
              " 2021-09-29  0.111790  0.022835 -0.408941 -0.154508\n",
              " 2021-10-02 -0.312458  0.465878 -1.226942 -1.298732\n",
              " 2021-09-27  0.551678  0.487792 -0.739381 -0.039140\n",
              " 2021-10-01  0.979073  0.517615 -2.130227 -0.968734\n",
              " 2021-09-28 -1.700939  1.067831  1.660949  1.466873)"
            ]
          },
          "metadata": {},
          "execution_count": 15
        }
      ]
    },
    {
      "cell_type": "markdown",
      "metadata": {
        "id": "rBW0-saPPGbN"
      },
      "source": [
        "## indexing and slicing of DataFrame"
      ]
    },
    {
      "cell_type": "markdown",
      "metadata": {
        "id": "oH89Wa-ix5rq"
      },
      "source": [
        "#### Selecting data by indexing and slicing\n",
        "- indexing\n",
        "- slicing\n"
      ]
    },
    {
      "cell_type": "code",
      "metadata": {
        "id": "YufIBMYzx5ru",
        "colab": {
          "base_uri": "https://localhost:8080/"
        },
        "outputId": "83c42b34-2d59-4a89-e8a2-bc416f1cbaad"
      },
      "source": [
        "# Selecting a single column, which yields a Series\n",
        "df['A']"
      ],
      "execution_count": 16,
      "outputs": [
        {
          "output_type": "execute_result",
          "data": {
            "text/plain": [
              "2021-09-27    0.551678\n",
              "2021-09-28   -1.700939\n",
              "2021-09-29    0.111790\n",
              "2021-09-30    0.937764\n",
              "2021-10-01    0.979073\n",
              "2021-10-02   -0.312458\n",
              "Freq: D, Name: A, dtype: float64"
            ]
          },
          "metadata": {},
          "execution_count": 16
        }
      ]
    },
    {
      "cell_type": "code",
      "metadata": {
        "id": "ijxuNMS5x5r3",
        "colab": {
          "base_uri": "https://localhost:8080/",
          "height": 142
        },
        "outputId": "1fde39b3-92d5-4d2e-888c-77f3a6a572d8"
      },
      "source": [
        "# Selecting via [], which slices the rows.\n",
        "df[0:3]"
      ],
      "execution_count": 17,
      "outputs": [
        {
          "output_type": "execute_result",
          "data": {
            "text/html": [
              "<div>\n",
              "<style scoped>\n",
              "    .dataframe tbody tr th:only-of-type {\n",
              "        vertical-align: middle;\n",
              "    }\n",
              "\n",
              "    .dataframe tbody tr th {\n",
              "        vertical-align: top;\n",
              "    }\n",
              "\n",
              "    .dataframe thead th {\n",
              "        text-align: right;\n",
              "    }\n",
              "</style>\n",
              "<table border=\"1\" class=\"dataframe\">\n",
              "  <thead>\n",
              "    <tr style=\"text-align: right;\">\n",
              "      <th></th>\n",
              "      <th>A</th>\n",
              "      <th>B</th>\n",
              "      <th>C</th>\n",
              "      <th>D</th>\n",
              "    </tr>\n",
              "  </thead>\n",
              "  <tbody>\n",
              "    <tr>\n",
              "      <th>2021-09-27</th>\n",
              "      <td>0.551678</td>\n",
              "      <td>0.487792</td>\n",
              "      <td>-0.739381</td>\n",
              "      <td>-0.039140</td>\n",
              "    </tr>\n",
              "    <tr>\n",
              "      <th>2021-09-28</th>\n",
              "      <td>-1.700939</td>\n",
              "      <td>1.067831</td>\n",
              "      <td>1.660949</td>\n",
              "      <td>1.466873</td>\n",
              "    </tr>\n",
              "    <tr>\n",
              "      <th>2021-09-29</th>\n",
              "      <td>0.111790</td>\n",
              "      <td>0.022835</td>\n",
              "      <td>-0.408941</td>\n",
              "      <td>-0.154508</td>\n",
              "    </tr>\n",
              "  </tbody>\n",
              "</table>\n",
              "</div>"
            ],
            "text/plain": [
              "                   A         B         C         D\n",
              "2021-09-27  0.551678  0.487792 -0.739381 -0.039140\n",
              "2021-09-28 -1.700939  1.067831  1.660949  1.466873\n",
              "2021-09-29  0.111790  0.022835 -0.408941 -0.154508"
            ]
          },
          "metadata": {},
          "execution_count": 17
        }
      ]
    },
    {
      "cell_type": "code",
      "metadata": {
        "id": "T8XP7m9nx5r9",
        "colab": {
          "base_uri": "https://localhost:8080/",
          "height": 204
        },
        "outputId": "f771bff3-7cf6-4baa-cfec-2d814ea29b73"
      },
      "source": [
        "df['20210927':'20211001'] # 인덱스가 아닌 값인 경우는 지정된 범위가 다 선택된다."
      ],
      "execution_count": 18,
      "outputs": [
        {
          "output_type": "execute_result",
          "data": {
            "text/html": [
              "<div>\n",
              "<style scoped>\n",
              "    .dataframe tbody tr th:only-of-type {\n",
              "        vertical-align: middle;\n",
              "    }\n",
              "\n",
              "    .dataframe tbody tr th {\n",
              "        vertical-align: top;\n",
              "    }\n",
              "\n",
              "    .dataframe thead th {\n",
              "        text-align: right;\n",
              "    }\n",
              "</style>\n",
              "<table border=\"1\" class=\"dataframe\">\n",
              "  <thead>\n",
              "    <tr style=\"text-align: right;\">\n",
              "      <th></th>\n",
              "      <th>A</th>\n",
              "      <th>B</th>\n",
              "      <th>C</th>\n",
              "      <th>D</th>\n",
              "    </tr>\n",
              "  </thead>\n",
              "  <tbody>\n",
              "    <tr>\n",
              "      <th>2021-09-27</th>\n",
              "      <td>0.551678</td>\n",
              "      <td>0.487792</td>\n",
              "      <td>-0.739381</td>\n",
              "      <td>-0.039140</td>\n",
              "    </tr>\n",
              "    <tr>\n",
              "      <th>2021-09-28</th>\n",
              "      <td>-1.700939</td>\n",
              "      <td>1.067831</td>\n",
              "      <td>1.660949</td>\n",
              "      <td>1.466873</td>\n",
              "    </tr>\n",
              "    <tr>\n",
              "      <th>2021-09-29</th>\n",
              "      <td>0.111790</td>\n",
              "      <td>0.022835</td>\n",
              "      <td>-0.408941</td>\n",
              "      <td>-0.154508</td>\n",
              "    </tr>\n",
              "    <tr>\n",
              "      <th>2021-09-30</th>\n",
              "      <td>0.937764</td>\n",
              "      <td>-0.167536</td>\n",
              "      <td>1.327969</td>\n",
              "      <td>0.092816</td>\n",
              "    </tr>\n",
              "    <tr>\n",
              "      <th>2021-10-01</th>\n",
              "      <td>0.979073</td>\n",
              "      <td>0.517615</td>\n",
              "      <td>-2.130227</td>\n",
              "      <td>-0.968734</td>\n",
              "    </tr>\n",
              "  </tbody>\n",
              "</table>\n",
              "</div>"
            ],
            "text/plain": [
              "                   A         B         C         D\n",
              "2021-09-27  0.551678  0.487792 -0.739381 -0.039140\n",
              "2021-09-28 -1.700939  1.067831  1.660949  1.466873\n",
              "2021-09-29  0.111790  0.022835 -0.408941 -0.154508\n",
              "2021-09-30  0.937764 -0.167536  1.327969  0.092816\n",
              "2021-10-01  0.979073  0.517615 -2.130227 -0.968734"
            ]
          },
          "metadata": {},
          "execution_count": 18
        }
      ]
    },
    {
      "cell_type": "markdown",
      "metadata": {
        "id": "E7-V96t9x5sB"
      },
      "source": [
        "#### Selecting data by label [중요!!]\n",
        "\n",
        "> **loc, iloc**\n"
      ]
    },
    {
      "cell_type": "code",
      "metadata": {
        "id": "TV4dnwU-x5sC",
        "colab": {
          "base_uri": "https://localhost:8080/",
          "height": 235
        },
        "outputId": "778ce38d-41aa-4ebd-b008-8ed9558d92a8"
      },
      "source": [
        "df"
      ],
      "execution_count": 19,
      "outputs": [
        {
          "output_type": "execute_result",
          "data": {
            "text/html": [
              "<div>\n",
              "<style scoped>\n",
              "    .dataframe tbody tr th:only-of-type {\n",
              "        vertical-align: middle;\n",
              "    }\n",
              "\n",
              "    .dataframe tbody tr th {\n",
              "        vertical-align: top;\n",
              "    }\n",
              "\n",
              "    .dataframe thead th {\n",
              "        text-align: right;\n",
              "    }\n",
              "</style>\n",
              "<table border=\"1\" class=\"dataframe\">\n",
              "  <thead>\n",
              "    <tr style=\"text-align: right;\">\n",
              "      <th></th>\n",
              "      <th>A</th>\n",
              "      <th>B</th>\n",
              "      <th>C</th>\n",
              "      <th>D</th>\n",
              "    </tr>\n",
              "  </thead>\n",
              "  <tbody>\n",
              "    <tr>\n",
              "      <th>2021-09-27</th>\n",
              "      <td>0.551678</td>\n",
              "      <td>0.487792</td>\n",
              "      <td>-0.739381</td>\n",
              "      <td>-0.039140</td>\n",
              "    </tr>\n",
              "    <tr>\n",
              "      <th>2021-09-28</th>\n",
              "      <td>-1.700939</td>\n",
              "      <td>1.067831</td>\n",
              "      <td>1.660949</td>\n",
              "      <td>1.466873</td>\n",
              "    </tr>\n",
              "    <tr>\n",
              "      <th>2021-09-29</th>\n",
              "      <td>0.111790</td>\n",
              "      <td>0.022835</td>\n",
              "      <td>-0.408941</td>\n",
              "      <td>-0.154508</td>\n",
              "    </tr>\n",
              "    <tr>\n",
              "      <th>2021-09-30</th>\n",
              "      <td>0.937764</td>\n",
              "      <td>-0.167536</td>\n",
              "      <td>1.327969</td>\n",
              "      <td>0.092816</td>\n",
              "    </tr>\n",
              "    <tr>\n",
              "      <th>2021-10-01</th>\n",
              "      <td>0.979073</td>\n",
              "      <td>0.517615</td>\n",
              "      <td>-2.130227</td>\n",
              "      <td>-0.968734</td>\n",
              "    </tr>\n",
              "    <tr>\n",
              "      <th>2021-10-02</th>\n",
              "      <td>-0.312458</td>\n",
              "      <td>0.465878</td>\n",
              "      <td>-1.226942</td>\n",
              "      <td>-1.298732</td>\n",
              "    </tr>\n",
              "  </tbody>\n",
              "</table>\n",
              "</div>"
            ],
            "text/plain": [
              "                   A         B         C         D\n",
              "2021-09-27  0.551678  0.487792 -0.739381 -0.039140\n",
              "2021-09-28 -1.700939  1.067831  1.660949  1.466873\n",
              "2021-09-29  0.111790  0.022835 -0.408941 -0.154508\n",
              "2021-09-30  0.937764 -0.167536  1.327969  0.092816\n",
              "2021-10-01  0.979073  0.517615 -2.130227 -0.968734\n",
              "2021-10-02 -0.312458  0.465878 -1.226942 -1.298732"
            ]
          },
          "metadata": {},
          "execution_count": 19
        }
      ]
    },
    {
      "cell_type": "code",
      "metadata": {
        "colab": {
          "base_uri": "https://localhost:8080/"
        },
        "id": "P9wvkueD4CqB",
        "outputId": "d71038c5-86e3-445e-8c1f-c5ff9400ec8a"
      },
      "source": [
        "dates[0]"
      ],
      "execution_count": 20,
      "outputs": [
        {
          "output_type": "execute_result",
          "data": {
            "text/plain": [
              "Timestamp('2021-09-27 00:00:00', freq='D')"
            ]
          },
          "metadata": {},
          "execution_count": 20
        }
      ]
    },
    {
      "cell_type": "code",
      "metadata": {
        "id": "iPZE3U5cx5sG",
        "colab": {
          "base_uri": "https://localhost:8080/"
        },
        "outputId": "5c0e4ae9-7d2c-4131-9109-8177d3b58921"
      },
      "source": [
        "df.loc[dates[0]]   # loc()"
      ],
      "execution_count": 21,
      "outputs": [
        {
          "output_type": "execute_result",
          "data": {
            "text/plain": [
              "A    0.551678\n",
              "B    0.487792\n",
              "C   -0.739381\n",
              "D   -0.039140\n",
              "Name: 2021-09-27 00:00:00, dtype: float64"
            ]
          },
          "metadata": {},
          "execution_count": 21
        }
      ]
    },
    {
      "cell_type": "code",
      "metadata": {
        "id": "jteYZDQnx5sL",
        "colab": {
          "base_uri": "https://localhost:8080/",
          "height": 235
        },
        "outputId": "11913b2b-246c-487d-f518-f15add040d32"
      },
      "source": [
        "# Selecting on a multi-axis by label:\n",
        "df.loc[:,['A','B']]"
      ],
      "execution_count": 22,
      "outputs": [
        {
          "output_type": "execute_result",
          "data": {
            "text/html": [
              "<div>\n",
              "<style scoped>\n",
              "    .dataframe tbody tr th:only-of-type {\n",
              "        vertical-align: middle;\n",
              "    }\n",
              "\n",
              "    .dataframe tbody tr th {\n",
              "        vertical-align: top;\n",
              "    }\n",
              "\n",
              "    .dataframe thead th {\n",
              "        text-align: right;\n",
              "    }\n",
              "</style>\n",
              "<table border=\"1\" class=\"dataframe\">\n",
              "  <thead>\n",
              "    <tr style=\"text-align: right;\">\n",
              "      <th></th>\n",
              "      <th>A</th>\n",
              "      <th>B</th>\n",
              "    </tr>\n",
              "  </thead>\n",
              "  <tbody>\n",
              "    <tr>\n",
              "      <th>2021-09-27</th>\n",
              "      <td>0.551678</td>\n",
              "      <td>0.487792</td>\n",
              "    </tr>\n",
              "    <tr>\n",
              "      <th>2021-09-28</th>\n",
              "      <td>-1.700939</td>\n",
              "      <td>1.067831</td>\n",
              "    </tr>\n",
              "    <tr>\n",
              "      <th>2021-09-29</th>\n",
              "      <td>0.111790</td>\n",
              "      <td>0.022835</td>\n",
              "    </tr>\n",
              "    <tr>\n",
              "      <th>2021-09-30</th>\n",
              "      <td>0.937764</td>\n",
              "      <td>-0.167536</td>\n",
              "    </tr>\n",
              "    <tr>\n",
              "      <th>2021-10-01</th>\n",
              "      <td>0.979073</td>\n",
              "      <td>0.517615</td>\n",
              "    </tr>\n",
              "    <tr>\n",
              "      <th>2021-10-02</th>\n",
              "      <td>-0.312458</td>\n",
              "      <td>0.465878</td>\n",
              "    </tr>\n",
              "  </tbody>\n",
              "</table>\n",
              "</div>"
            ],
            "text/plain": [
              "                   A         B\n",
              "2021-09-27  0.551678  0.487792\n",
              "2021-09-28 -1.700939  1.067831\n",
              "2021-09-29  0.111790  0.022835\n",
              "2021-09-30  0.937764 -0.167536\n",
              "2021-10-01  0.979073  0.517615\n",
              "2021-10-02 -0.312458  0.465878"
            ]
          },
          "metadata": {},
          "execution_count": 22
        }
      ]
    },
    {
      "cell_type": "markdown",
      "metadata": {
        "id": "QqYJvRLnx5sP"
      },
      "source": [
        "#### [DIY: 도전코딩]\n",
        "##개념 이해 중요\n",
        "####loc 함수에서는 정수 인덱스가 아닌 value 인덱스만 사용가능\n",
        "> Select data for first two days AND column 3,4 from df using loc[]."
      ]
    },
    {
      "cell_type": "code",
      "metadata": {
        "id": "jSUlF4icx5sQ",
        "colab": {
          "base_uri": "https://localhost:8080/",
          "height": 111
        },
        "outputId": "8918344b-3bee-4a67-cab3-ab67b678abcc"
      },
      "source": [
        "# df.loc[0:2,['C','D']] #loc 함수에서는 정수 인덱스가 아닌 value 인덱스만 사용가능\n",
        "# df.loc['20210927':'20210928',['C','D']]\n",
        "df.loc[dates[:2],['C','D']]\n",
        "\n",
        "# 필기시험시 중간고사에 A,B,C,D로 하여 위의 내용이 나올수도 있음"
      ],
      "execution_count": 23,
      "outputs": [
        {
          "output_type": "execute_result",
          "data": {
            "text/html": [
              "<div>\n",
              "<style scoped>\n",
              "    .dataframe tbody tr th:only-of-type {\n",
              "        vertical-align: middle;\n",
              "    }\n",
              "\n",
              "    .dataframe tbody tr th {\n",
              "        vertical-align: top;\n",
              "    }\n",
              "\n",
              "    .dataframe thead th {\n",
              "        text-align: right;\n",
              "    }\n",
              "</style>\n",
              "<table border=\"1\" class=\"dataframe\">\n",
              "  <thead>\n",
              "    <tr style=\"text-align: right;\">\n",
              "      <th></th>\n",
              "      <th>C</th>\n",
              "      <th>D</th>\n",
              "    </tr>\n",
              "  </thead>\n",
              "  <tbody>\n",
              "    <tr>\n",
              "      <th>2021-09-27</th>\n",
              "      <td>-0.739381</td>\n",
              "      <td>-0.039140</td>\n",
              "    </tr>\n",
              "    <tr>\n",
              "      <th>2021-09-28</th>\n",
              "      <td>1.660949</td>\n",
              "      <td>1.466873</td>\n",
              "    </tr>\n",
              "  </tbody>\n",
              "</table>\n",
              "</div>"
            ],
            "text/plain": [
              "                   C         D\n",
              "2021-09-27 -0.739381 -0.039140\n",
              "2021-09-28  1.660949  1.466873"
            ]
          },
          "metadata": {},
          "execution_count": 23
        }
      ]
    },
    {
      "cell_type": "markdown",
      "metadata": {
        "id": "-BGWuIwpx5sV"
      },
      "source": [
        "#### Selecting data by position (iloc())\n",
        "- index 사용"
      ]
    },
    {
      "cell_type": "code",
      "metadata": {
        "id": "gYtgID9rx5sW",
        "colab": {
          "base_uri": "https://localhost:8080/",
          "height": 235
        },
        "outputId": "e2051561-779b-4013-bb76-e6ae7bfcdf8b"
      },
      "source": [
        "df"
      ],
      "execution_count": 24,
      "outputs": [
        {
          "output_type": "execute_result",
          "data": {
            "text/html": [
              "<div>\n",
              "<style scoped>\n",
              "    .dataframe tbody tr th:only-of-type {\n",
              "        vertical-align: middle;\n",
              "    }\n",
              "\n",
              "    .dataframe tbody tr th {\n",
              "        vertical-align: top;\n",
              "    }\n",
              "\n",
              "    .dataframe thead th {\n",
              "        text-align: right;\n",
              "    }\n",
              "</style>\n",
              "<table border=\"1\" class=\"dataframe\">\n",
              "  <thead>\n",
              "    <tr style=\"text-align: right;\">\n",
              "      <th></th>\n",
              "      <th>A</th>\n",
              "      <th>B</th>\n",
              "      <th>C</th>\n",
              "      <th>D</th>\n",
              "    </tr>\n",
              "  </thead>\n",
              "  <tbody>\n",
              "    <tr>\n",
              "      <th>2021-09-27</th>\n",
              "      <td>0.551678</td>\n",
              "      <td>0.487792</td>\n",
              "      <td>-0.739381</td>\n",
              "      <td>-0.039140</td>\n",
              "    </tr>\n",
              "    <tr>\n",
              "      <th>2021-09-28</th>\n",
              "      <td>-1.700939</td>\n",
              "      <td>1.067831</td>\n",
              "      <td>1.660949</td>\n",
              "      <td>1.466873</td>\n",
              "    </tr>\n",
              "    <tr>\n",
              "      <th>2021-09-29</th>\n",
              "      <td>0.111790</td>\n",
              "      <td>0.022835</td>\n",
              "      <td>-0.408941</td>\n",
              "      <td>-0.154508</td>\n",
              "    </tr>\n",
              "    <tr>\n",
              "      <th>2021-09-30</th>\n",
              "      <td>0.937764</td>\n",
              "      <td>-0.167536</td>\n",
              "      <td>1.327969</td>\n",
              "      <td>0.092816</td>\n",
              "    </tr>\n",
              "    <tr>\n",
              "      <th>2021-10-01</th>\n",
              "      <td>0.979073</td>\n",
              "      <td>0.517615</td>\n",
              "      <td>-2.130227</td>\n",
              "      <td>-0.968734</td>\n",
              "    </tr>\n",
              "    <tr>\n",
              "      <th>2021-10-02</th>\n",
              "      <td>-0.312458</td>\n",
              "      <td>0.465878</td>\n",
              "      <td>-1.226942</td>\n",
              "      <td>-1.298732</td>\n",
              "    </tr>\n",
              "  </tbody>\n",
              "</table>\n",
              "</div>"
            ],
            "text/plain": [
              "                   A         B         C         D\n",
              "2021-09-27  0.551678  0.487792 -0.739381 -0.039140\n",
              "2021-09-28 -1.700939  1.067831  1.660949  1.466873\n",
              "2021-09-29  0.111790  0.022835 -0.408941 -0.154508\n",
              "2021-09-30  0.937764 -0.167536  1.327969  0.092816\n",
              "2021-10-01  0.979073  0.517615 -2.130227 -0.968734\n",
              "2021-10-02 -0.312458  0.465878 -1.226942 -1.298732"
            ]
          },
          "metadata": {},
          "execution_count": 24
        }
      ]
    },
    {
      "cell_type": "code",
      "metadata": {
        "id": "PNgZ3u8-x5sa",
        "colab": {
          "base_uri": "https://localhost:8080/"
        },
        "outputId": "e03a7d4a-3e5a-4728-da34-4374cc27c702"
      },
      "source": [
        "df.iloc[3]  # 결과는 차원축소형으로 표현됨."
      ],
      "execution_count": 25,
      "outputs": [
        {
          "output_type": "execute_result",
          "data": {
            "text/plain": [
              "A    0.937764\n",
              "B   -0.167536\n",
              "C    1.327969\n",
              "D    0.092816\n",
              "Name: 2021-09-30 00:00:00, dtype: float64"
            ]
          },
          "metadata": {},
          "execution_count": 25
        }
      ]
    },
    {
      "cell_type": "markdown",
      "metadata": {
        "id": "FJITjfFs6SUU"
      },
      "source": [
        "##중요\n"
      ]
    },
    {
      "cell_type": "code",
      "metadata": {
        "id": "12eWuxQ_x5sh",
        "colab": {
          "base_uri": "https://localhost:8080/",
          "height": 111
        },
        "outputId": "c15fcd9c-bc59-414e-a8fa-46cb2f0ffd53"
      },
      "source": [
        "# [다시 도전]\n",
        "# Select data for first two days AND comumn 3,4 from df.\n",
        "# Use iloc  \n",
        "# 다음 중 결과를 출력하지 못하는것은 무엇인가? 식으로 출제할수 있음\n",
        "# df[:2,2:4]    #iloc을 사용하지 않을 경우 오류 발생\n",
        "df.iloc[:2,2:4]"
      ],
      "execution_count": 26,
      "outputs": [
        {
          "output_type": "execute_result",
          "data": {
            "text/html": [
              "<div>\n",
              "<style scoped>\n",
              "    .dataframe tbody tr th:only-of-type {\n",
              "        vertical-align: middle;\n",
              "    }\n",
              "\n",
              "    .dataframe tbody tr th {\n",
              "        vertical-align: top;\n",
              "    }\n",
              "\n",
              "    .dataframe thead th {\n",
              "        text-align: right;\n",
              "    }\n",
              "</style>\n",
              "<table border=\"1\" class=\"dataframe\">\n",
              "  <thead>\n",
              "    <tr style=\"text-align: right;\">\n",
              "      <th></th>\n",
              "      <th>C</th>\n",
              "      <th>D</th>\n",
              "    </tr>\n",
              "  </thead>\n",
              "  <tbody>\n",
              "    <tr>\n",
              "      <th>2021-09-27</th>\n",
              "      <td>-0.739381</td>\n",
              "      <td>-0.039140</td>\n",
              "    </tr>\n",
              "    <tr>\n",
              "      <th>2021-09-28</th>\n",
              "      <td>1.660949</td>\n",
              "      <td>1.466873</td>\n",
              "    </tr>\n",
              "  </tbody>\n",
              "</table>\n",
              "</div>"
            ],
            "text/plain": [
              "                   C         D\n",
              "2021-09-27 -0.739381 -0.039140\n",
              "2021-09-28  1.660949  1.466873"
            ]
          },
          "metadata": {},
          "execution_count": 26
        }
      ]
    },
    {
      "cell_type": "code",
      "metadata": {
        "id": "_S-omW3hx5sn",
        "colab": {
          "base_uri": "https://localhost:8080/"
        },
        "outputId": "1803a1b3-997c-42d9-dac4-d86214c55757"
      },
      "source": [
        "# Select one item\n",
        "df.iloc[1,1]"
      ],
      "execution_count": 27,
      "outputs": [
        {
          "output_type": "execute_result",
          "data": {
            "text/plain": [
              "1.0678308122054874"
            ]
          },
          "metadata": {},
          "execution_count": 27
        }
      ]
    },
    {
      "cell_type": "code",
      "metadata": {
        "id": "fjAsIAidfVUQ",
        "colab": {
          "base_uri": "https://localhost:8080/",
          "height": 142
        },
        "outputId": "e7b06b66-ab42-43a7-ec82-09b64bbf2db0"
      },
      "source": [
        "# [DIY: 다시 도전]\n",
        "# Select data for first three days from df\n",
        "# Your code\n",
        "df.iloc[:3,:]"
      ],
      "execution_count": 28,
      "outputs": [
        {
          "output_type": "execute_result",
          "data": {
            "text/html": [
              "<div>\n",
              "<style scoped>\n",
              "    .dataframe tbody tr th:only-of-type {\n",
              "        vertical-align: middle;\n",
              "    }\n",
              "\n",
              "    .dataframe tbody tr th {\n",
              "        vertical-align: top;\n",
              "    }\n",
              "\n",
              "    .dataframe thead th {\n",
              "        text-align: right;\n",
              "    }\n",
              "</style>\n",
              "<table border=\"1\" class=\"dataframe\">\n",
              "  <thead>\n",
              "    <tr style=\"text-align: right;\">\n",
              "      <th></th>\n",
              "      <th>A</th>\n",
              "      <th>B</th>\n",
              "      <th>C</th>\n",
              "      <th>D</th>\n",
              "    </tr>\n",
              "  </thead>\n",
              "  <tbody>\n",
              "    <tr>\n",
              "      <th>2021-09-27</th>\n",
              "      <td>0.551678</td>\n",
              "      <td>0.487792</td>\n",
              "      <td>-0.739381</td>\n",
              "      <td>-0.039140</td>\n",
              "    </tr>\n",
              "    <tr>\n",
              "      <th>2021-09-28</th>\n",
              "      <td>-1.700939</td>\n",
              "      <td>1.067831</td>\n",
              "      <td>1.660949</td>\n",
              "      <td>1.466873</td>\n",
              "    </tr>\n",
              "    <tr>\n",
              "      <th>2021-09-29</th>\n",
              "      <td>0.111790</td>\n",
              "      <td>0.022835</td>\n",
              "      <td>-0.408941</td>\n",
              "      <td>-0.154508</td>\n",
              "    </tr>\n",
              "  </tbody>\n",
              "</table>\n",
              "</div>"
            ],
            "text/plain": [
              "                   A         B         C         D\n",
              "2021-09-27  0.551678  0.487792 -0.739381 -0.039140\n",
              "2021-09-28 -1.700939  1.067831  1.660949  1.466873\n",
              "2021-09-29  0.111790  0.022835 -0.408941 -0.154508"
            ]
          },
          "metadata": {},
          "execution_count": 28
        }
      ]
    },
    {
      "cell_type": "markdown",
      "metadata": {
        "id": "fDoWVVGHx5su"
      },
      "source": [
        "#### Selecting data by Boolean indexing"
      ]
    },
    {
      "cell_type": "code",
      "metadata": {
        "id": "CG7LipUrx5sv",
        "colab": {
          "base_uri": "https://localhost:8080/",
          "height": 235
        },
        "outputId": "7813f144-17af-45dc-e0aa-478f40e73c9a"
      },
      "source": [
        "df"
      ],
      "execution_count": 29,
      "outputs": [
        {
          "output_type": "execute_result",
          "data": {
            "text/html": [
              "<div>\n",
              "<style scoped>\n",
              "    .dataframe tbody tr th:only-of-type {\n",
              "        vertical-align: middle;\n",
              "    }\n",
              "\n",
              "    .dataframe tbody tr th {\n",
              "        vertical-align: top;\n",
              "    }\n",
              "\n",
              "    .dataframe thead th {\n",
              "        text-align: right;\n",
              "    }\n",
              "</style>\n",
              "<table border=\"1\" class=\"dataframe\">\n",
              "  <thead>\n",
              "    <tr style=\"text-align: right;\">\n",
              "      <th></th>\n",
              "      <th>A</th>\n",
              "      <th>B</th>\n",
              "      <th>C</th>\n",
              "      <th>D</th>\n",
              "    </tr>\n",
              "  </thead>\n",
              "  <tbody>\n",
              "    <tr>\n",
              "      <th>2021-09-27</th>\n",
              "      <td>0.551678</td>\n",
              "      <td>0.487792</td>\n",
              "      <td>-0.739381</td>\n",
              "      <td>-0.039140</td>\n",
              "    </tr>\n",
              "    <tr>\n",
              "      <th>2021-09-28</th>\n",
              "      <td>-1.700939</td>\n",
              "      <td>1.067831</td>\n",
              "      <td>1.660949</td>\n",
              "      <td>1.466873</td>\n",
              "    </tr>\n",
              "    <tr>\n",
              "      <th>2021-09-29</th>\n",
              "      <td>0.111790</td>\n",
              "      <td>0.022835</td>\n",
              "      <td>-0.408941</td>\n",
              "      <td>-0.154508</td>\n",
              "    </tr>\n",
              "    <tr>\n",
              "      <th>2021-09-30</th>\n",
              "      <td>0.937764</td>\n",
              "      <td>-0.167536</td>\n",
              "      <td>1.327969</td>\n",
              "      <td>0.092816</td>\n",
              "    </tr>\n",
              "    <tr>\n",
              "      <th>2021-10-01</th>\n",
              "      <td>0.979073</td>\n",
              "      <td>0.517615</td>\n",
              "      <td>-2.130227</td>\n",
              "      <td>-0.968734</td>\n",
              "    </tr>\n",
              "    <tr>\n",
              "      <th>2021-10-02</th>\n",
              "      <td>-0.312458</td>\n",
              "      <td>0.465878</td>\n",
              "      <td>-1.226942</td>\n",
              "      <td>-1.298732</td>\n",
              "    </tr>\n",
              "  </tbody>\n",
              "</table>\n",
              "</div>"
            ],
            "text/plain": [
              "                   A         B         C         D\n",
              "2021-09-27  0.551678  0.487792 -0.739381 -0.039140\n",
              "2021-09-28 -1.700939  1.067831  1.660949  1.466873\n",
              "2021-09-29  0.111790  0.022835 -0.408941 -0.154508\n",
              "2021-09-30  0.937764 -0.167536  1.327969  0.092816\n",
              "2021-10-01  0.979073  0.517615 -2.130227 -0.968734\n",
              "2021-10-02 -0.312458  0.465878 -1.226942 -1.298732"
            ]
          },
          "metadata": {},
          "execution_count": 29
        }
      ]
    },
    {
      "cell_type": "code",
      "metadata": {
        "colab": {
          "base_uri": "https://localhost:8080/"
        },
        "id": "WVYuu5ej7XPS",
        "outputId": "61061bb5-9555-46a5-ac25-67c93dda9f6f"
      },
      "source": [
        "df.A > 0"
      ],
      "execution_count": 30,
      "outputs": [
        {
          "output_type": "execute_result",
          "data": {
            "text/plain": [
              "2021-09-27     True\n",
              "2021-09-28    False\n",
              "2021-09-29     True\n",
              "2021-09-30     True\n",
              "2021-10-01     True\n",
              "2021-10-02    False\n",
              "Freq: D, Name: A, dtype: bool"
            ]
          },
          "metadata": {},
          "execution_count": 30
        }
      ]
    },
    {
      "cell_type": "code",
      "metadata": {
        "id": "U5If1VEYx5sy",
        "colab": {
          "base_uri": "https://localhost:8080/",
          "height": 173
        },
        "outputId": "f675b665-90d9-4f97-cb74-dac1bcd0a95e"
      },
      "source": [
        "# 인덱스를 대괄호로 지정\n",
        "df[df.A > 0]    # True가 되는 값만 뽑아 냄"
      ],
      "execution_count": 31,
      "outputs": [
        {
          "output_type": "execute_result",
          "data": {
            "text/html": [
              "<div>\n",
              "<style scoped>\n",
              "    .dataframe tbody tr th:only-of-type {\n",
              "        vertical-align: middle;\n",
              "    }\n",
              "\n",
              "    .dataframe tbody tr th {\n",
              "        vertical-align: top;\n",
              "    }\n",
              "\n",
              "    .dataframe thead th {\n",
              "        text-align: right;\n",
              "    }\n",
              "</style>\n",
              "<table border=\"1\" class=\"dataframe\">\n",
              "  <thead>\n",
              "    <tr style=\"text-align: right;\">\n",
              "      <th></th>\n",
              "      <th>A</th>\n",
              "      <th>B</th>\n",
              "      <th>C</th>\n",
              "      <th>D</th>\n",
              "    </tr>\n",
              "  </thead>\n",
              "  <tbody>\n",
              "    <tr>\n",
              "      <th>2021-09-27</th>\n",
              "      <td>0.551678</td>\n",
              "      <td>0.487792</td>\n",
              "      <td>-0.739381</td>\n",
              "      <td>-0.039140</td>\n",
              "    </tr>\n",
              "    <tr>\n",
              "      <th>2021-09-29</th>\n",
              "      <td>0.111790</td>\n",
              "      <td>0.022835</td>\n",
              "      <td>-0.408941</td>\n",
              "      <td>-0.154508</td>\n",
              "    </tr>\n",
              "    <tr>\n",
              "      <th>2021-09-30</th>\n",
              "      <td>0.937764</td>\n",
              "      <td>-0.167536</td>\n",
              "      <td>1.327969</td>\n",
              "      <td>0.092816</td>\n",
              "    </tr>\n",
              "    <tr>\n",
              "      <th>2021-10-01</th>\n",
              "      <td>0.979073</td>\n",
              "      <td>0.517615</td>\n",
              "      <td>-2.130227</td>\n",
              "      <td>-0.968734</td>\n",
              "    </tr>\n",
              "  </tbody>\n",
              "</table>\n",
              "</div>"
            ],
            "text/plain": [
              "                   A         B         C         D\n",
              "2021-09-27  0.551678  0.487792 -0.739381 -0.039140\n",
              "2021-09-29  0.111790  0.022835 -0.408941 -0.154508\n",
              "2021-09-30  0.937764 -0.167536  1.327969  0.092816\n",
              "2021-10-01  0.979073  0.517615 -2.130227 -0.968734"
            ]
          },
          "metadata": {},
          "execution_count": 31
        }
      ]
    },
    {
      "cell_type": "code",
      "metadata": {
        "colab": {
          "base_uri": "https://localhost:8080/",
          "height": 235
        },
        "id": "-swqSXdU74eg",
        "outputId": "c99573a1-77f6-4526-c6a9-1f2bbb47536b"
      },
      "source": [
        "df > 0"
      ],
      "execution_count": 32,
      "outputs": [
        {
          "output_type": "execute_result",
          "data": {
            "text/html": [
              "<div>\n",
              "<style scoped>\n",
              "    .dataframe tbody tr th:only-of-type {\n",
              "        vertical-align: middle;\n",
              "    }\n",
              "\n",
              "    .dataframe tbody tr th {\n",
              "        vertical-align: top;\n",
              "    }\n",
              "\n",
              "    .dataframe thead th {\n",
              "        text-align: right;\n",
              "    }\n",
              "</style>\n",
              "<table border=\"1\" class=\"dataframe\">\n",
              "  <thead>\n",
              "    <tr style=\"text-align: right;\">\n",
              "      <th></th>\n",
              "      <th>A</th>\n",
              "      <th>B</th>\n",
              "      <th>C</th>\n",
              "      <th>D</th>\n",
              "    </tr>\n",
              "  </thead>\n",
              "  <tbody>\n",
              "    <tr>\n",
              "      <th>2021-09-27</th>\n",
              "      <td>True</td>\n",
              "      <td>True</td>\n",
              "      <td>False</td>\n",
              "      <td>False</td>\n",
              "    </tr>\n",
              "    <tr>\n",
              "      <th>2021-09-28</th>\n",
              "      <td>False</td>\n",
              "      <td>True</td>\n",
              "      <td>True</td>\n",
              "      <td>True</td>\n",
              "    </tr>\n",
              "    <tr>\n",
              "      <th>2021-09-29</th>\n",
              "      <td>True</td>\n",
              "      <td>True</td>\n",
              "      <td>False</td>\n",
              "      <td>False</td>\n",
              "    </tr>\n",
              "    <tr>\n",
              "      <th>2021-09-30</th>\n",
              "      <td>True</td>\n",
              "      <td>False</td>\n",
              "      <td>True</td>\n",
              "      <td>True</td>\n",
              "    </tr>\n",
              "    <tr>\n",
              "      <th>2021-10-01</th>\n",
              "      <td>True</td>\n",
              "      <td>True</td>\n",
              "      <td>False</td>\n",
              "      <td>False</td>\n",
              "    </tr>\n",
              "    <tr>\n",
              "      <th>2021-10-02</th>\n",
              "      <td>False</td>\n",
              "      <td>True</td>\n",
              "      <td>False</td>\n",
              "      <td>False</td>\n",
              "    </tr>\n",
              "  </tbody>\n",
              "</table>\n",
              "</div>"
            ],
            "text/plain": [
              "                A      B      C      D\n",
              "2021-09-27   True   True  False  False\n",
              "2021-09-28  False   True   True   True\n",
              "2021-09-29   True   True  False  False\n",
              "2021-09-30   True  False   True   True\n",
              "2021-10-01   True   True  False  False\n",
              "2021-10-02  False   True  False  False"
            ]
          },
          "metadata": {},
          "execution_count": 32
        }
      ]
    },
    {
      "cell_type": "code",
      "metadata": {
        "id": "8WkB7Q5rx5s1",
        "colab": {
          "base_uri": "https://localhost:8080/",
          "height": 235
        },
        "outputId": "cedf55e6-00cb-4397-edcc-cdf581feebd9"
      },
      "source": [
        "df[df > 0]  # True가 되는 값만 뽑아 냄"
      ],
      "execution_count": 33,
      "outputs": [
        {
          "output_type": "execute_result",
          "data": {
            "text/html": [
              "<div>\n",
              "<style scoped>\n",
              "    .dataframe tbody tr th:only-of-type {\n",
              "        vertical-align: middle;\n",
              "    }\n",
              "\n",
              "    .dataframe tbody tr th {\n",
              "        vertical-align: top;\n",
              "    }\n",
              "\n",
              "    .dataframe thead th {\n",
              "        text-align: right;\n",
              "    }\n",
              "</style>\n",
              "<table border=\"1\" class=\"dataframe\">\n",
              "  <thead>\n",
              "    <tr style=\"text-align: right;\">\n",
              "      <th></th>\n",
              "      <th>A</th>\n",
              "      <th>B</th>\n",
              "      <th>C</th>\n",
              "      <th>D</th>\n",
              "    </tr>\n",
              "  </thead>\n",
              "  <tbody>\n",
              "    <tr>\n",
              "      <th>2021-09-27</th>\n",
              "      <td>0.551678</td>\n",
              "      <td>0.487792</td>\n",
              "      <td>NaN</td>\n",
              "      <td>NaN</td>\n",
              "    </tr>\n",
              "    <tr>\n",
              "      <th>2021-09-28</th>\n",
              "      <td>NaN</td>\n",
              "      <td>1.067831</td>\n",
              "      <td>1.660949</td>\n",
              "      <td>1.466873</td>\n",
              "    </tr>\n",
              "    <tr>\n",
              "      <th>2021-09-29</th>\n",
              "      <td>0.111790</td>\n",
              "      <td>0.022835</td>\n",
              "      <td>NaN</td>\n",
              "      <td>NaN</td>\n",
              "    </tr>\n",
              "    <tr>\n",
              "      <th>2021-09-30</th>\n",
              "      <td>0.937764</td>\n",
              "      <td>NaN</td>\n",
              "      <td>1.327969</td>\n",
              "      <td>0.092816</td>\n",
              "    </tr>\n",
              "    <tr>\n",
              "      <th>2021-10-01</th>\n",
              "      <td>0.979073</td>\n",
              "      <td>0.517615</td>\n",
              "      <td>NaN</td>\n",
              "      <td>NaN</td>\n",
              "    </tr>\n",
              "    <tr>\n",
              "      <th>2021-10-02</th>\n",
              "      <td>NaN</td>\n",
              "      <td>0.465878</td>\n",
              "      <td>NaN</td>\n",
              "      <td>NaN</td>\n",
              "    </tr>\n",
              "  </tbody>\n",
              "</table>\n",
              "</div>"
            ],
            "text/plain": [
              "                   A         B         C         D\n",
              "2021-09-27  0.551678  0.487792       NaN       NaN\n",
              "2021-09-28       NaN  1.067831  1.660949  1.466873\n",
              "2021-09-29  0.111790  0.022835       NaN       NaN\n",
              "2021-09-30  0.937764       NaN  1.327969  0.092816\n",
              "2021-10-01  0.979073  0.517615       NaN       NaN\n",
              "2021-10-02       NaN  0.465878       NaN       NaN"
            ]
          },
          "metadata": {},
          "execution_count": 33
        }
      ]
    }
  ]
}